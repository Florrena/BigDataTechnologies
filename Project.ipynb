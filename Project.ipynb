{
 "cells": [
  {
   "cell_type": "code",
   "execution_count": 125,
   "metadata": {},
   "outputs": [],
   "source": [
    "from pyspark.sql import SparkSession\n",
    "from pyspark.sql.functions import col, when, isnull\n",
    "import pandas as pd\n",
    "from pyspark.sql import functions as F\n",
    "from pyspark.sql.types import IntegerType\n",
    "\n",
    "# Creating Spark session\n",
    "spark = SparkSession.builder.appName(\"SteamGamesSuccess\").getOrCreate()\n",
    "\n",
    "data = \"C:/Users/jansu/Desktop/archive/games_march2025_full.csv\"\n",
    "df = spark.read.csv(\"C:/Users/jansu/Desktop/archive/games_march2025_full.csv\", header=True, inferSchema=True)"
   ]
  },
  {
   "cell_type": "code",
   "execution_count": 126,
   "metadata": {},
   "outputs": [
    {
     "name": "stdout",
     "output_type": "stream",
     "text": [
      "+------+--------------------+------------+------------+-----+---------+--------------------+--------------------+--------------------+--------------------+--------------------+--------------------+--------------------+-------------+-------+-----+-----+----------------+--------------------+------------+---------------+--------------------+--------------------+--------------------+--------------------+--------------------+--------------------+--------------------+--------------------+--------------------+--------------------+----------------+--------------------+------------------+----------------+--------------------+------------------------+-----------------------+-----------------------+----------------------+--------------------+----------+--------------------+--------------------+-----------------+--------------+------------------+\n",
      "| appid|                name|release_date|required_age|price|dlc_count|detailed_description|      about_the_game|   short_description|             reviews|        header_image|             website|         support_url|support_email|windows|  mac|linux|metacritic_score|      metacritic_url|achievements|recommendations|               notes| supported_languages|full_audio_languages|            packages|          developers|          publishers|          categories|              genres|         screenshots|              movies|      user_score|          score_rank|          positive|        negative|    estimated_owners|average_playtime_forever|average_playtime_2weeks|median_playtime_forever|median_playtime_2weeks|            discount|  peak_ccu|                tags|       pct_pos_total|num_reviews_total|pct_pos_recent|num_reviews_recent|\n",
      "+------+--------------------+------------+------------+-----+---------+--------------------+--------------------+--------------------+--------------------+--------------------+--------------------+--------------------+-------------+-------+-----+-----+----------------+--------------------+------------+---------------+--------------------+--------------------+--------------------+--------------------+--------------------+--------------------+--------------------+--------------------+--------------------+--------------------+----------------+--------------------+------------------+----------------+--------------------+------------------------+-----------------------+-----------------------+----------------------+--------------------+----------+--------------------+--------------------+-----------------+--------------+------------------+\n",
      "|   730|    Counter-Strike 2|  2012-08-21|           0|  0.0|      1.0|For over two deca...|For over two deca...|For over two deca...|                NULL|https://shared.ak...|http://counter-st...|                NULL|         NULL|   True|False| True|               0|                NULL|           1|        4401572|Includes intense ...|['Czech', 'Danish...|['English', 'Indo...|[{'title': 'Buy C...|           ['Valve']|           ['Valve']|['Multi-player', ...|['Action', 'Free ...|['https://shared....|['http://video.ak...|               0|                NULL|           7480813|         1135108|100000000 - 20000...|                   33189|                    879|                   5174|                   350|                   0|   1212356|{'FPS': 90857, 'S...|                  86|          8632939|            82|             96473|\n",
      "|578080| PUBG: BATTLEGROUNDS|  2017-12-21|           0|  0.0|      0.0|LAND, LOOT, SURVI...|LAND, LOOT, SURVI...|Play PUBG: BATTLE...|                NULL|https://shared.ak...|https://www.pubg.com|https://support.p...|         NULL|   True|False|False|               0|                NULL|          37|        1732007|                NULL|['English', 'Kore...|                  []|                  []|['PUBG Corporation']|   ['KRAFTON, Inc.']|['Multi-player', ...|['Action', 'Adven...|['https://shared....|                  []|               0|                NULL|           1487960|         1024436|50000000 - 100000000|                       0|                      0|                      0|                     0|                   0|    616738|{'Survival': 1483...|                  59|          2513842|            68|             16720|\n",
      "|   570|              Dota 2|  2013-07-09|           0|  0.0|      2.0|The most-played g...|The most-played g...|Every day, millio...|“A modern multipl...|https://shared.ak...|http://www.dota2....|                NULL|         NULL|   True| True| True|              90|https://www.metac...|           0|          14337|Dota 2 includes f...|['Bulgarian', 'Cz...|['English', 'Kore...|[{'title': 'Buy D...|           ['Valve']|           ['Valve']|['Multi-player', ...|['Action', 'Strat...|['https://shared....|['http://video.ak...|               0|                NULL|           1998462|          451338|200000000 - 50000...|                   43031|                   1536|                    898|                   892|                   0|    555977|{'Free to Play': ...|                  81|          2452595|            80|             29366|\n",
      "|271590|Grand Theft Auto ...|  2015-04-13|          17|  0.0|      0.0|When a young stre...|When a young stre...|Grand Theft Auto ...|                NULL|https://shared.ak...|https://www.rocks...|https://support.r...|         NULL|   True|False|False|              96|https://www.metac...|          77|        1803063|                NULL|['English', 'Fren...|['English', 'Span...|[{'title': 'Buy S...|  ['Rockstar North']|  ['Rockstar Games']|['Single-player',...|['Action', 'Adven...|['https://shared....|['http://video.ak...|               0|                NULL|           1719950|          250012|50000000 - 100000000|                   19323|                    771|                   7101|                    74|                   0|    117698|{'Open World': 32...|                  87|          1803832|            92|             17517|\n",
      "|488824|Tom Clancy's Rain...|  2015-12-01|          17|19.99|      9.0|Edition Compariso...|“One of the best ...|Tom Clancy's Rain...|                NULL|https://shared.ak...|http://rainbow6.u...|http://support.ub...|         NULL|   True|False|False|               0|                NULL|           0|        1160724|                NULL|['English', 'Fren...|['English', 'Fren...|\"[{'title': \"\"Buy...|   'description': ''| 'subs': [{'text'...|   'description': ''|     'price': 19.99}| {'text': \"\"Tom C...|   'description': ''| 'price': 29.99}| {'text': \"\"Tom C...| 'description': ''| 'price': 69.99}| {'text': \"\"Tom C...|       'description': ''|    'price': 89.99}]}]\"|   ['Ubisoft Montreal']|           ['Ubisoft']|['Single-player',...|['Action']|['https://shared....|['http://video.ak...|                0|          NULL|            312816|\n",
      "+------+--------------------+------------+------------+-----+---------+--------------------+--------------------+--------------------+--------------------+--------------------+--------------------+--------------------+-------------+-------+-----+-----+----------------+--------------------+------------+---------------+--------------------+--------------------+--------------------+--------------------+--------------------+--------------------+--------------------+--------------------+--------------------+--------------------+----------------+--------------------+------------------+----------------+--------------------+------------------------+-----------------------+-----------------------+----------------------+--------------------+----------+--------------------+--------------------+-----------------+--------------+------------------+\n",
      "only showing top 5 rows\n",
      "\n"
     ]
    }
   ],
   "source": [
    "df.show(5)"
   ]
  },
  {
   "cell_type": "code",
   "execution_count": 127,
   "metadata": {},
   "outputs": [
    {
     "name": "stdout",
     "output_type": "stream",
     "text": [
      "+------+--------------------+------------+--------------------+--------------------+--------------------+--------------------+-----+--------------------+---------------+------------------+----------------+-----------------+----------+---------+\n",
      "| appid|                name|release_date|              genres|                tags|          developers|          publishers|price|            discount|recommendations|          positive|        negative|num_reviews_total|  peak_ccu|dlc_count|\n",
      "+------+--------------------+------------+--------------------+--------------------+--------------------+--------------------+-----+--------------------+---------------+------------------+----------------+-----------------+----------+---------+\n",
      "|   730|    Counter-Strike 2|  2012-08-21|['Action', 'Free ...|{'FPS': 90857, 'S...|           ['Valve']|           ['Valve']|  0.0|                   0|        4401572|           7480813|         1135108|          8632939|   1212356|      1.0|\n",
      "|578080| PUBG: BATTLEGROUNDS|  2017-12-21|['Action', 'Adven...|{'Survival': 1483...|['PUBG Corporation']|   ['KRAFTON, Inc.']|  0.0|                   0|        1732007|           1487960|         1024436|          2513842|    616738|      0.0|\n",
      "|   570|              Dota 2|  2013-07-09|['Action', 'Strat...|{'Free to Play': ...|           ['Valve']|           ['Valve']|  0.0|                   0|          14337|           1998462|          451338|          2452595|    555977|      2.0|\n",
      "|271590|Grand Theft Auto ...|  2015-04-13|['Action', 'Adven...|{'Open World': 32...|  ['Rockstar North']|  ['Rockstar Games']|  0.0|                   0|        1803063|           1719950|          250012|          1803832|    117698|      0.0|\n",
      "|488824|Tom Clancy's Rain...|  2015-12-01|     'price': 19.99}|['https://shared....|   'description': ''| 'subs': [{'text'...|19.99|['Single-player',...|        1160724| 'description': ''| 'price': 69.99}|                0|['Action']|      9.0|\n",
      "+------+--------------------+------------+--------------------+--------------------+--------------------+--------------------+-----+--------------------+---------------+------------------+----------------+-----------------+----------+---------+\n",
      "only showing top 5 rows\n",
      "\n"
     ]
    }
   ],
   "source": [
    "used_columns = [\n",
    "    \"appid\", \"name\", \"release_date\", \"genres\", \"tags\", \"developers\", \"publishers\",\n",
    "    \"price\", \"discount\", \"recommendations\", \"positive\", \"negative\",\n",
    "    \"num_reviews_total\", \"peak_ccu\", \"dlc_count\"\n",
    "]\n",
    "\n",
    "# Keep only these columns\n",
    "df1 = df.select(*used_columns)\n",
    "\n",
    "df1.show(5)"
   ]
  },
  {
   "cell_type": "code",
   "execution_count": 128,
   "metadata": {},
   "outputs": [],
   "source": [
    "df1 = df1.withColumnRenamed(\"discount\", \"discount_percentage\")"
   ]
  },
  {
   "cell_type": "code",
   "execution_count": 129,
   "metadata": {},
   "outputs": [],
   "source": [
    "df1 = df1.withColumnRenamed(\"peak_ccu\", \"peak_playernum\")"
   ]
  },
  {
   "cell_type": "code",
   "execution_count": 130,
   "metadata": {},
   "outputs": [
    {
     "name": "stdout",
     "output_type": "stream",
     "text": [
      "root\n",
      " |-- appid: integer (nullable = true)\n",
      " |-- name: string (nullable = true)\n",
      " |-- release_date: string (nullable = true)\n",
      " |-- genres: string (nullable = true)\n",
      " |-- tags: string (nullable = true)\n",
      " |-- developers: string (nullable = true)\n",
      " |-- publishers: string (nullable = true)\n",
      " |-- price: string (nullable = true)\n",
      " |-- discount_percentage: string (nullable = true)\n",
      " |-- recommendations: string (nullable = true)\n",
      " |-- positive: string (nullable = true)\n",
      " |-- negative: string (nullable = true)\n",
      " |-- num_reviews_total: string (nullable = true)\n",
      " |-- peak_playernum: string (nullable = true)\n",
      " |-- dlc_count: double (nullable = true)\n",
      "\n"
     ]
    }
   ],
   "source": [
    "df1.printSchema()"
   ]
  },
  {
   "cell_type": "code",
   "execution_count": 131,
   "metadata": {},
   "outputs": [
    {
     "name": "stdout",
     "output_type": "stream",
     "text": [
      "Total Records: 94948\n",
      "+-------+------------------+-------------+--------------------+------------------------+--------------------+--------------------+--------------------+------------------+--------------------+--------------------+--------------------+--------------------+--------------------+--------------------+------------------+\n",
      "|summary|             appid|         name|        release_date|                  genres|                tags|          developers|          publishers|             price| discount_percentage|     recommendations|            positive|            negative|   num_reviews_total|      peak_playernum|         dlc_count|\n",
      "+-------+------------------+-------------+--------------------+------------------------+--------------------+--------------------+--------------------+------------------+--------------------+--------------------+--------------------+--------------------+--------------------+--------------------+------------------+\n",
      "|  count|             94948|        94946|               94948|                   94946|               94893|               94943|               94945|             94948|               94934|               94942|               94844|               94155|               94938|               94938|             94948|\n",
      "|   mean|1707530.5252138013|     Infinity|                NULL|                    96.5|   44.97910317805834|                18.0|               548.5| 6.911021633349301|  28.964518581171507|  1022.0061521606303|  1167.5245467645186|  200.42582089888145|  1378.8339020703554|   88.05669805264284|0.5635818553313393|\n",
      "| stddev| 926434.6198176197|          NaN|                NULL|      136.47160876900367|   557.9853324027006|   25.93581821856921|  132.22896808188437|13.071270503743605|   3979.582206596843|   22743.98658687331|  31064.225690605534|   6098.237327411041|   35532.19739691391|   5543.974700030437|14.915860171195758|\n",
      "|    min|                20|! Shakabula *| Please!\"\" Collec...|         'Arthur Parker'|             'Hindi'|          'Croatian'|    'Alyssa Jackson'|                 0|          'Georgian'|        'Trial Mode'|            'Basque'| 'Feral Interacti...|     \"\"1990's\"\": 106|          'Filipino'|               0.0|\n",
      "|    max|           3570420|           𣸩|          2025-03-10|做了類似NTR的事 - $4.99'|{'e-sports': 3123...|monster girl cont...|https://shared.ak...|            999.98|https://www.metac...|https://shared.ak...|http://sakunaofri...|https://marvelous...|{'Zombies': 65, '...|['https://shared....|            3427.0|\n",
      "+-------+------------------+-------------+--------------------+------------------------+--------------------+--------------------+--------------------+------------------+--------------------+--------------------+--------------------+--------------------+--------------------+--------------------+------------------+\n",
      "\n"
     ]
    }
   ],
   "source": [
    "print(f\"Total Records: {df1.count()}\")\n",
    "\n",
    "df1.describe().show()"
   ]
  },
  {
   "cell_type": "markdown",
   "metadata": {},
   "source": [
    "# Data Preprocessing\n",
    "- Handling Missing Values"
   ]
  },
  {
   "cell_type": "code",
   "execution_count": 132,
   "metadata": {},
   "outputs": [
    {
     "name": "stdout",
     "output_type": "stream",
     "text": [
      "+-----+----+------------+------+----+----------+----------+-----+-------------------+---------------+--------+--------+-----------------+--------------+---------+\n",
      "|appid|name|release_date|genres|tags|developers|publishers|price|discount_percentage|recommendations|positive|negative|num_reviews_total|peak_playernum|dlc_count|\n",
      "+-----+----+------------+------+----+----------+----------+-----+-------------------+---------------+--------+--------+-----------------+--------------+---------+\n",
      "|    0|   2|           0|     2|  55|         5|         3|    0|                 14|              6|     104|     793|               10|            10|        0|\n",
      "+-----+----+------------+------+----+----------+----------+-----+-------------------+---------------+--------+--------+-----------------+--------------+---------+\n",
      "\n"
     ]
    }
   ],
   "source": [
    "from pyspark.sql.functions import col, sum\n",
    "\n",
    "null_counts = df1.select([sum(col(c).isNull().cast(\"int\")).alias(c) for c in df1.columns])\n",
    "null_counts.show()"
   ]
  },
  {
   "cell_type": "code",
   "execution_count": null,
   "metadata": {},
   "outputs": [],
   "source": [
    "# We dropped null name rows, because a game without a name is invalid.\n",
    "# We dropped null tag rows, because there were quite a few of them and we do not get much out of them.\n",
    "# We dropped null peak_playernum rows, because if it has had no peak it means it it does not have a playerbase, so we do not need it.\n",
    "df_cleaned = df1.dropna(subset=[\"name\", \"tags\", \"peak_playernum\"])\n",
    "\n",
    "# We changed null genres into \"unknown\", because there were only two of them. It won't impact the analyzis much.\n",
    "df_filled = df_cleaned.fillna({\"genres\": \"unknown\", \"developers\": \"unknown\", \"publishers\": \"unknown\", \"discount_percentage\": \"0\", \"recommendations\": \"0\"\n",
    "                               ,\"positive\": \"0\", \"negative\": \"0\"})\n",
    "\n",
    "# df_filled2 = df_filled.withColumn(\n",
    "#     \"num_reviews_total\",\n",
    "#     F.when(F.col(\"num_reviews_total\").isNull(), F.col(\"positive\") + F.col(\"negative\"))\n",
    "#     .otherwise(F.col(\"num_reviews_total\"))\n",
    "# )"
   ]
  },
  {
   "cell_type": "code",
   "execution_count": 134,
   "metadata": {},
   "outputs": [
    {
     "name": "stdout",
     "output_type": "stream",
     "text": [
      "+-----+----+------------+------+----+----------+----------+-----+-------------------+---------------+--------+--------+-----------------+--------------+---------+\n",
      "|appid|name|release_date|genres|tags|developers|publishers|price|discount_percentage|recommendations|positive|negative|num_reviews_total|peak_playernum|dlc_count|\n",
      "+-----+----+------------+------+----+----------+----------+-----+-------------------+---------------+--------+--------+-----------------+--------------+---------+\n",
      "|    0|   0|           0|     0|   0|         0|         0|    0|                  0|              0|       0|       0|               10|             0|        0|\n",
      "+-----+----+------------+------+----+----------+----------+-----+-------------------+---------------+--------+--------+-----------------+--------------+---------+\n",
      "\n"
     ]
    }
   ],
   "source": [
    "null_counts = df_filled.select([sum(col(c).isNull().cast(\"int\")).alias(c) for c in df_filled.columns])\n",
    "null_counts.show()"
   ]
  },
  {
   "cell_type": "markdown",
   "metadata": {},
   "source": [
    "**Duplicates**"
   ]
  },
  {
   "cell_type": "code",
   "execution_count": 139,
   "metadata": {},
   "outputs": [
    {
     "name": "stdout",
     "output_type": "stream",
     "text": [
      "+-----+-----+\n",
      "|appid|count|\n",
      "+-----+-----+\n",
      "+-----+-----+\n",
      "\n",
      "+--------------------+-----+\n",
      "|                name|count|\n",
      "+--------------------+-----+\n",
      "|              ISLAND|    2|\n",
      "|Romance of the Th...|    2|\n",
      "|      Eternal Return|    2|\n",
      "|Ys I & II Chronic...|    2|\n",
      "|               Nomad|    2|\n",
      "|Loading Screen Si...|    2|\n",
      "|      Hero's Journey|    3|\n",
      "|The Lord of the R...|    2|\n",
      "|             Journey|    2|\n",
      "|Call of Duty®: Bl...|    2|\n",
      "|        Blood Strike|    2|\n",
      "|Call of Duty®: Bl...|    2|\n",
      "|          The Bunker|    3|\n",
      "|    EA SPORTS FC™ 24|    4|\n",
      "|              WASTED|    2|\n",
      "|            Downfall|    2|\n",
      "|         Battle Ball|    2|\n",
      "|            Paradise|    2|\n",
      "|     Graveyard Shift|    2|\n",
      "|           The Guest|    2|\n",
      "+--------------------+-----+\n",
      "only showing top 20 rows\n",
      "\n"
     ]
    }
   ],
   "source": [
    "id_duplicates = df_filled.groupBy(\"appid\").count().filter(\"count > 1\")\n",
    "name_duplicates = df_filled.groupBy(\"name\").count().filter(\"count > 1\")\n",
    "\n",
    "id_duplicates.show()\n",
    "name_duplicates.show()"
   ]
  },
  {
   "cell_type": "code",
   "execution_count": 141,
   "metadata": {},
   "outputs": [
    {
     "name": "stdout",
     "output_type": "stream",
     "text": [
      "+----+-----+\n",
      "|name|count|\n",
      "+----+-----+\n",
      "+----+-----+\n",
      "\n"
     ]
    }
   ],
   "source": [
    "df_no_duplicates = df_filled.dropDuplicates([\"name\"])\n",
    "\n",
    "name_duplicates = df_no_duplicates.groupBy(\"name\").count().filter(\"count > 1\")\n",
    "name_duplicates.show()"
   ]
  }
 ],
 "metadata": {
  "kernelspec": {
   "display_name": "BigData",
   "language": "python",
   "name": "python3"
  },
  "language_info": {
   "codemirror_mode": {
    "name": "ipython",
    "version": 3
   },
   "file_extension": ".py",
   "mimetype": "text/x-python",
   "name": "python",
   "nbconvert_exporter": "python",
   "pygments_lexer": "ipython3",
   "version": "3.11.11"
  }
 },
 "nbformat": 4,
 "nbformat_minor": 2
}
