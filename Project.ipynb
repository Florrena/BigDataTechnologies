{
 "cells": [
  {
   "cell_type": "code",
   "execution_count": 1,
   "metadata": {},
   "outputs": [
    {
     "ename": "AnalysisException",
     "evalue": "[PATH_NOT_FOUND] Path does not exist: file:/c:/Users/jansu/Documents/BigData/BigDataTechnologies/games_march2025_full.csv.",
     "output_type": "error",
     "traceback": [
      "\u001b[31m---------------------------------------------------------------------------\u001b[39m",
      "\u001b[31mAnalysisException\u001b[39m                         Traceback (most recent call last)",
      "\u001b[36mCell\u001b[39m\u001b[36m \u001b[39m\u001b[32mIn[1]\u001b[39m\u001b[32m, line 10\u001b[39m\n\u001b[32m      7\u001b[39m spark = SparkSession.builder.appName(\u001b[33m\"\u001b[39m\u001b[33mSteamGamesSuccess\u001b[39m\u001b[33m\"\u001b[39m).getOrCreate()\n\u001b[32m      9\u001b[39m data = \u001b[33m\"\u001b[39m\u001b[33mgames_march2025_full.csv\u001b[39m\u001b[33m\"\u001b[39m\n\u001b[32m---> \u001b[39m\u001b[32m10\u001b[39m df = \u001b[43mspark\u001b[49m\u001b[43m.\u001b[49m\u001b[43mread\u001b[49m\u001b[43m.\u001b[49m\u001b[43mcsv\u001b[49m\u001b[43m(\u001b[49m\u001b[33;43m\"\u001b[39;49m\u001b[33;43mgames_march2025_full.csv\u001b[39;49m\u001b[33;43m\"\u001b[39;49m\u001b[43m,\u001b[49m\u001b[43m \u001b[49m\u001b[43mheader\u001b[49m\u001b[43m=\u001b[49m\u001b[38;5;28;43;01mTrue\u001b[39;49;00m\u001b[43m,\u001b[49m\u001b[43m \u001b[49m\u001b[43minferSchema\u001b[49m\u001b[43m=\u001b[49m\u001b[38;5;28;43;01mTrue\u001b[39;49;00m\u001b[43m)\u001b[49m\n\u001b[32m     11\u001b[39m df.show(truncate=\u001b[38;5;28;01mFalse\u001b[39;00m)\n",
      "\u001b[36mFile \u001b[39m\u001b[32mc:\\Users\\jansu\\anaconda3\\envs\\BigData\\Lib\\site-packages\\pyspark\\sql\\readwriter.py:740\u001b[39m, in \u001b[36mDataFrameReader.csv\u001b[39m\u001b[34m(self, path, schema, sep, encoding, quote, escape, comment, header, inferSchema, ignoreLeadingWhiteSpace, ignoreTrailingWhiteSpace, nullValue, nanValue, positiveInf, negativeInf, dateFormat, timestampFormat, maxColumns, maxCharsPerColumn, maxMalformedLogPerPartition, mode, columnNameOfCorruptRecord, multiLine, charToEscapeQuoteEscaping, samplingRatio, enforceSchema, emptyValue, locale, lineSep, pathGlobFilter, recursiveFileLookup, modifiedBefore, modifiedAfter, unescapedQuoteHandling)\u001b[39m\n\u001b[32m    738\u001b[39m \u001b[38;5;28;01mif\u001b[39;00m \u001b[38;5;28mtype\u001b[39m(path) == \u001b[38;5;28mlist\u001b[39m:\n\u001b[32m    739\u001b[39m     \u001b[38;5;28;01massert\u001b[39;00m \u001b[38;5;28mself\u001b[39m._spark._sc._jvm \u001b[38;5;129;01mis\u001b[39;00m \u001b[38;5;129;01mnot\u001b[39;00m \u001b[38;5;28;01mNone\u001b[39;00m\n\u001b[32m--> \u001b[39m\u001b[32m740\u001b[39m     \u001b[38;5;28;01mreturn\u001b[39;00m \u001b[38;5;28mself\u001b[39m._df(\u001b[38;5;28;43mself\u001b[39;49m\u001b[43m.\u001b[49m\u001b[43m_jreader\u001b[49m\u001b[43m.\u001b[49m\u001b[43mcsv\u001b[49m\u001b[43m(\u001b[49m\u001b[38;5;28;43mself\u001b[39;49m\u001b[43m.\u001b[49m\u001b[43m_spark\u001b[49m\u001b[43m.\u001b[49m\u001b[43m_sc\u001b[49m\u001b[43m.\u001b[49m\u001b[43m_jvm\u001b[49m\u001b[43m.\u001b[49m\u001b[43mPythonUtils\u001b[49m\u001b[43m.\u001b[49m\u001b[43mtoSeq\u001b[49m\u001b[43m(\u001b[49m\u001b[43mpath\u001b[49m\u001b[43m)\u001b[49m\u001b[43m)\u001b[49m)\n\u001b[32m    741\u001b[39m \u001b[38;5;28;01melif\u001b[39;00m \u001b[38;5;28misinstance\u001b[39m(path, RDD):\n\u001b[32m    743\u001b[39m     \u001b[38;5;28;01mdef\u001b[39;00m\u001b[38;5;250m \u001b[39m\u001b[34mfunc\u001b[39m(iterator):\n",
      "\u001b[36mFile \u001b[39m\u001b[32mc:\\Users\\jansu\\anaconda3\\envs\\BigData\\Lib\\site-packages\\py4j\\java_gateway.py:1322\u001b[39m, in \u001b[36mJavaMember.__call__\u001b[39m\u001b[34m(self, *args)\u001b[39m\n\u001b[32m   1316\u001b[39m command = proto.CALL_COMMAND_NAME +\\\n\u001b[32m   1317\u001b[39m     \u001b[38;5;28mself\u001b[39m.command_header +\\\n\u001b[32m   1318\u001b[39m     args_command +\\\n\u001b[32m   1319\u001b[39m     proto.END_COMMAND_PART\n\u001b[32m   1321\u001b[39m answer = \u001b[38;5;28mself\u001b[39m.gateway_client.send_command(command)\n\u001b[32m-> \u001b[39m\u001b[32m1322\u001b[39m return_value = \u001b[43mget_return_value\u001b[49m\u001b[43m(\u001b[49m\n\u001b[32m   1323\u001b[39m \u001b[43m    \u001b[49m\u001b[43manswer\u001b[49m\u001b[43m,\u001b[49m\u001b[43m \u001b[49m\u001b[38;5;28;43mself\u001b[39;49m\u001b[43m.\u001b[49m\u001b[43mgateway_client\u001b[49m\u001b[43m,\u001b[49m\u001b[43m \u001b[49m\u001b[38;5;28;43mself\u001b[39;49m\u001b[43m.\u001b[49m\u001b[43mtarget_id\u001b[49m\u001b[43m,\u001b[49m\u001b[43m \u001b[49m\u001b[38;5;28;43mself\u001b[39;49m\u001b[43m.\u001b[49m\u001b[43mname\u001b[49m\u001b[43m)\u001b[49m\n\u001b[32m   1325\u001b[39m \u001b[38;5;28;01mfor\u001b[39;00m temp_arg \u001b[38;5;129;01min\u001b[39;00m temp_args:\n\u001b[32m   1326\u001b[39m     \u001b[38;5;28;01mif\u001b[39;00m \u001b[38;5;28mhasattr\u001b[39m(temp_arg, \u001b[33m\"\u001b[39m\u001b[33m_detach\u001b[39m\u001b[33m\"\u001b[39m):\n",
      "\u001b[36mFile \u001b[39m\u001b[32mc:\\Users\\jansu\\anaconda3\\envs\\BigData\\Lib\\site-packages\\pyspark\\errors\\exceptions\\captured.py:185\u001b[39m, in \u001b[36mcapture_sql_exception.<locals>.deco\u001b[39m\u001b[34m(*a, **kw)\u001b[39m\n\u001b[32m    181\u001b[39m converted = convert_exception(e.java_exception)\n\u001b[32m    182\u001b[39m \u001b[38;5;28;01mif\u001b[39;00m \u001b[38;5;129;01mnot\u001b[39;00m \u001b[38;5;28misinstance\u001b[39m(converted, UnknownException):\n\u001b[32m    183\u001b[39m     \u001b[38;5;66;03m# Hide where the exception came from that shows a non-Pythonic\u001b[39;00m\n\u001b[32m    184\u001b[39m     \u001b[38;5;66;03m# JVM exception message.\u001b[39;00m\n\u001b[32m--> \u001b[39m\u001b[32m185\u001b[39m     \u001b[38;5;28;01mraise\u001b[39;00m converted \u001b[38;5;28;01mfrom\u001b[39;00m\u001b[38;5;250m \u001b[39m\u001b[38;5;28;01mNone\u001b[39;00m\n\u001b[32m    186\u001b[39m \u001b[38;5;28;01melse\u001b[39;00m:\n\u001b[32m    187\u001b[39m     \u001b[38;5;28;01mraise\u001b[39;00m\n",
      "\u001b[31mAnalysisException\u001b[39m: [PATH_NOT_FOUND] Path does not exist: file:/c:/Users/jansu/Documents/BigData/BigDataTechnologies/games_march2025_full.csv."
     ]
    }
   ],
   "source": [
    "from pyspark.sql import SparkSession\n",
    "from pyspark.sql.functions import col, when, isnull\n",
    "from pyspark.sql import functions as F\n",
    "from pyspark.sql.types import IntegerType\n",
    "\n",
    "# Creating Spark session\n",
    "spark = SparkSession.builder.appName(\"SteamGamesSuccess\").getOrCreate()\n",
    "\n",
    "data = \"games_march2025_full.csv\"\n",
    "df = spark.read.csv(\"games_march2025_full.csv\", header=True, inferSchema=True)\n",
    "df.show(truncate=False)\n",
    "\n"
   ]
  },
  {
   "cell_type": "code",
   "execution_count": null,
   "metadata": {},
   "outputs": [
    {
     "name": "stdout",
     "output_type": "stream",
     "text": [
      "+-------+--------------------+------------+--------------------+--------------------+--------------------+--------------------+-----+--------+---------------+--------+--------+--------+---------+\n",
      "|  appid|                name|release_date|              genres|                tags|          developers|          publishers|price|discount|recommendations|positive|negative|peak_ccu|dlc_count|\n",
      "+-------+--------------------+------------+--------------------+--------------------+--------------------+--------------------+-----+--------+---------------+--------+--------+--------+---------+\n",
      "|    730|    Counter-Strike 2|  21/08/2012|['Action', 'Free ...|{'FPS': 90857, 'S...|           ['Valve']|           ['Valve']|    0|       0|        4401572| 7480813| 1135108| 1212356|        1|\n",
      "| 578080| PUBG: BATTLEGROUNDS|  21/12/2017|['Action', 'Adven...|{'Survival': 1483...|['PUBG Corporation']|   ['KRAFTON, Inc.']|    0|       0|        1732007| 1487960| 1024436|  616738|        0|\n",
      "|    570|              Dota 2|  09/07/2013|['Action', 'Strat...|{'Free to Play': ...|           ['Valve']|           ['Valve']|    0|       0|          14337| 1998462|  451338|  555977|        2|\n",
      "| 271590|Grand Theft Auto ...|  13/04/2015|['Action', 'Adven...|{'Open World': 32...|  ['Rockstar North']|  ['Rockstar Games']|    0|       0|        1803063| 1719950|  250012|  117698|        0|\n",
      "| 488824|Tom Clancy's Rain...|  01/12/2015|          ['Action']|{'FPS': 8082, 'Mu...|['Ubisoft Montreal']|         ['Ubisoft']|19.99|       0|        1160724|  312816|   64201|       0|        9|\n",
      "| 488822|Tom Clancy's Rain...|  01/12/2015|          ['Action']|{'FPS': 8078, 'Mu...|['Ubisoft Montreal']|         ['Ubisoft']|19.99|       0|        1160500|  312397|   64151|       0|        9|\n",
      "| 488821|Tom Clancy's Rain...|  01/12/2015|          ['Action']|{'FPS': 8078, 'Mu...|['Ubisoft Montreal']|         ['Ubisoft']|19.99|       0|        1160766|  312232|   64137|       0|        9|\n",
      "| 488823|Tom Clancy's Rain...|  01/12/2015|          ['Action']|{'FPS': 8082, 'Mu...|['Ubisoft Montreal']|         ['Ubisoft']|19.99|       0|        1160526|  312719|   64188|       0|        9|\n",
      "| 359550|Tom Clancy's Rain...|  01/12/2015|          ['Action']|{'FPS': 9831, 'Pv...|['Ubisoft Montreal']|         ['Ubisoft']| 3.99|      80|        1165929| 1152763|  218446|   89916|        9|\n",
      "|    440|     Team Fortress 2|  10/10/2007|['Action', 'Free ...|{'Free to Play': ...|           ['Valve']|           ['Valve']|    0|       0|          41587| 1025633|  120619|   50817|        1|\n",
      "| 105600|            Terraria|  16/05/2011|['Action', 'Adven...|{'Open World Surv...|        ['Re-Logic']|        ['Re-Logic']| 9.99|       0|        1098792| 1344773|   34460|   30516|        2|\n",
      "| 252490|                Rust|  08/02/2018|['Action', 'Adven...|{'Survival': 1859...|['Facepunch Studi...|['Facepunch Studi...|39.99|       0|         992825| 1043708|  152272|  200902|        4|\n",
      "|   4000|         Garry's Mod|  29/11/2006|['Casual', 'Indie...|{'Sandbox': 18706...|['Facepunch Studi...|           ['Valve']| 5.99|      40|         984713| 1106689|   36727|   32384|        0|\n",
      "|1172470|       Apex Legends™|  04/11/2020|['Action', 'Adven...|{'Free to Play': ...|         ['Respawn']| ['Electronic Arts']|    0|       0|           1548|  660150|  322363|  151844|        0|\n",
      "|2358720|  Black Myth: Wukong|  19/08/2024|['Action', 'Adven...|{'Mythology': 942...|    ['Game Science']|    ['Game Science']|59.99|       0|         825294| 1098373|   37811|   35990|        2|\n",
      "| 292030|The Witcher 3: Wi...|  18/05/2015|             ['RPG']|{'Open World': 12...|  ['CD PROJEKT RED']|  ['CD PROJEKT RED']|39.99|       0|         761658|  791139|   31979|   15129|       22|\n",
      "|1245620|          ELDEN RING|  24/02/2022|   ['Action', 'RPG']|{'Souls-like': 68...|['FromSoftware, I...|['FromSoftware, I...|59.99|       0|         749109|  956144|   73714|   46121|        2|\n",
      "| 413150|      Stardew Valley|  26/02/2016|['Indie', 'RPG', ...|{'Farming Sim': 7...|    ['ConcernedApe']|    ['ConcernedApe']|14.99|       0|         729406|  841413|   13440|   67309|        1|\n",
      "|1091500|      Cyberpunk 2077|  09/12/2020|             ['RPG']|{'Cyberpunk': 648...|  ['CD PROJEKT RED']|  ['CD PROJEKT RED']|59.99|       0|         735210|  690253|  132012|   29239|        3|\n",
      "|1952710| BACKGAMMON Playtest|  10/10/2023|                  []|                  []|                  []|                  []|    0|       0|              0|       0|       0|       0|        0|\n",
      "+-------+--------------------+------------+--------------------+--------------------+--------------------+--------------------+-----+--------+---------------+--------+--------+--------+---------+\n",
      "only showing top 20 rows\n",
      "\n"
     ]
    }
   ],
   "source": [
    "used_columns = [\n",
    "    \"appid\", \"name\", \"release_date\", \"genres\", \"tags\", \"developers\", \"publishers\",\n",
    "    \"price\", \"discount\", \"recommendations\", \"positive\", \"negative\", \"peak_ccu\", \"dlc_count\"\n",
    "]\n",
    "\n",
    "df1 = df.select(*used_columns)\n",
    "\n",
    "df1.show(20)"
   ]
  },
  {
   "cell_type": "code",
   "execution_count": null,
   "metadata": {},
   "outputs": [],
   "source": [
    "df1 = df1.withColumnRenamed(\"discount\", \"discount_percentage\")"
   ]
  },
  {
   "cell_type": "code",
   "execution_count": null,
   "metadata": {},
   "outputs": [],
   "source": [
    "df1 = df1.withColumnRenamed(\"peak_ccu\", \"peak_playernum\")"
   ]
  },
  {
   "cell_type": "code",
   "execution_count": null,
   "metadata": {},
   "outputs": [
    {
     "name": "stdout",
     "output_type": "stream",
     "text": [
      "root\n",
      " |-- appid: string (nullable = true)\n",
      " |-- name: string (nullable = true)\n",
      " |-- release_date: string (nullable = true)\n",
      " |-- genres: string (nullable = true)\n",
      " |-- tags: string (nullable = true)\n",
      " |-- developers: string (nullable = true)\n",
      " |-- publishers: string (nullable = true)\n",
      " |-- price: string (nullable = true)\n",
      " |-- discount_percentage: string (nullable = true)\n",
      " |-- recommendations: string (nullable = true)\n",
      " |-- positive: string (nullable = true)\n",
      " |-- negative: string (nullable = true)\n",
      " |-- peak_playernum: string (nullable = true)\n",
      " |-- dlc_count: string (nullable = true)\n",
      "\n"
     ]
    }
   ],
   "source": [
    "df1.printSchema()"
   ]
  },
  {
   "cell_type": "code",
   "execution_count": null,
   "metadata": {},
   "outputs": [
    {
     "name": "stdout",
     "output_type": "stream",
     "text": [
      "Total Records: 94954\n",
      "+-------+--------------------+------------+--------------------+--------------------+--------------------+--------------------+-----+-------------------+---------------+--------+--------+--------------+---------+\n",
      "|  appid|                name|release_date|              genres|                tags|          developers|          publishers|price|discount_percentage|recommendations|positive|negative|peak_playernum|dlc_count|\n",
      "+-------+--------------------+------------+--------------------+--------------------+--------------------+--------------------+-----+-------------------+---------------+--------+--------+--------------+---------+\n",
      "|    730|    Counter-Strike 2|  21/08/2012|['Action', 'Free ...|{'FPS': 90857, 'S...|           ['Valve']|           ['Valve']|    0|                  0|        4401572| 7480813| 1135108|       1212356|        1|\n",
      "| 578080| PUBG: BATTLEGROUNDS|  21/12/2017|['Action', 'Adven...|{'Survival': 1483...|['PUBG Corporation']|   ['KRAFTON, Inc.']|    0|                  0|        1732007| 1487960| 1024436|        616738|        0|\n",
      "|    570|              Dota 2|  09/07/2013|['Action', 'Strat...|{'Free to Play': ...|           ['Valve']|           ['Valve']|    0|                  0|          14337| 1998462|  451338|        555977|        2|\n",
      "| 271590|Grand Theft Auto ...|  13/04/2015|['Action', 'Adven...|{'Open World': 32...|  ['Rockstar North']|  ['Rockstar Games']|    0|                  0|        1803063| 1719950|  250012|        117698|        0|\n",
      "| 488824|Tom Clancy's Rain...|  01/12/2015|          ['Action']|{'FPS': 8082, 'Mu...|['Ubisoft Montreal']|         ['Ubisoft']|19.99|                  0|        1160724|  312816|   64201|             0|        9|\n",
      "| 488822|Tom Clancy's Rain...|  01/12/2015|          ['Action']|{'FPS': 8078, 'Mu...|['Ubisoft Montreal']|         ['Ubisoft']|19.99|                  0|        1160500|  312397|   64151|             0|        9|\n",
      "| 488821|Tom Clancy's Rain...|  01/12/2015|          ['Action']|{'FPS': 8078, 'Mu...|['Ubisoft Montreal']|         ['Ubisoft']|19.99|                  0|        1160766|  312232|   64137|             0|        9|\n",
      "| 488823|Tom Clancy's Rain...|  01/12/2015|          ['Action']|{'FPS': 8082, 'Mu...|['Ubisoft Montreal']|         ['Ubisoft']|19.99|                  0|        1160526|  312719|   64188|             0|        9|\n",
      "| 359550|Tom Clancy's Rain...|  01/12/2015|          ['Action']|{'FPS': 9831, 'Pv...|['Ubisoft Montreal']|         ['Ubisoft']| 3.99|                 80|        1165929| 1152763|  218446|         89916|        9|\n",
      "|    440|     Team Fortress 2|  10/10/2007|['Action', 'Free ...|{'Free to Play': ...|           ['Valve']|           ['Valve']|    0|                  0|          41587| 1025633|  120619|         50817|        1|\n",
      "| 105600|            Terraria|  16/05/2011|['Action', 'Adven...|{'Open World Surv...|        ['Re-Logic']|        ['Re-Logic']| 9.99|                  0|        1098792| 1344773|   34460|         30516|        2|\n",
      "| 252490|                Rust|  08/02/2018|['Action', 'Adven...|{'Survival': 1859...|['Facepunch Studi...|['Facepunch Studi...|39.99|                  0|         992825| 1043708|  152272|        200902|        4|\n",
      "|   4000|         Garry's Mod|  29/11/2006|['Casual', 'Indie...|{'Sandbox': 18706...|['Facepunch Studi...|           ['Valve']| 5.99|                 40|         984713| 1106689|   36727|         32384|        0|\n",
      "|1172470|       Apex Legends™|  04/11/2020|['Action', 'Adven...|{'Free to Play': ...|         ['Respawn']| ['Electronic Arts']|    0|                  0|           1548|  660150|  322363|        151844|        0|\n",
      "|2358720|  Black Myth: Wukong|  19/08/2024|['Action', 'Adven...|{'Mythology': 942...|    ['Game Science']|    ['Game Science']|59.99|                  0|         825294| 1098373|   37811|         35990|        2|\n",
      "| 292030|The Witcher 3: Wi...|  18/05/2015|             ['RPG']|{'Open World': 12...|  ['CD PROJEKT RED']|  ['CD PROJEKT RED']|39.99|                  0|         761658|  791139|   31979|         15129|       22|\n",
      "|1245620|          ELDEN RING|  24/02/2022|   ['Action', 'RPG']|{'Souls-like': 68...|['FromSoftware, I...|['FromSoftware, I...|59.99|                  0|         749109|  956144|   73714|         46121|        2|\n",
      "| 413150|      Stardew Valley|  26/02/2016|['Indie', 'RPG', ...|{'Farming Sim': 7...|    ['ConcernedApe']|    ['ConcernedApe']|14.99|                  0|         729406|  841413|   13440|         67309|        1|\n",
      "|1091500|      Cyberpunk 2077|  09/12/2020|             ['RPG']|{'Cyberpunk': 648...|  ['CD PROJEKT RED']|  ['CD PROJEKT RED']|59.99|                  0|         735210|  690253|  132012|         29239|        3|\n",
      "|1952710| BACKGAMMON Playtest|  10/10/2023|                  []|                  []|                  []|                  []|    0|                  0|              0|       0|       0|             0|        0|\n",
      "+-------+--------------------+------------+--------------------+--------------------+--------------------+--------------------+-----+-------------------+---------------+--------+--------+--------------+---------+\n",
      "only showing top 20 rows\n",
      "\n"
     ]
    }
   ],
   "source": [
    "print(f\"Total Records: {df1.count()}\")\n",
    "\n",
    "df1.show()"
   ]
  },
  {
   "cell_type": "markdown",
   "metadata": {},
   "source": [
    "# Data Preprocessing\n",
    "- Handling Missing Values"
   ]
  },
  {
   "cell_type": "code",
   "execution_count": null,
   "metadata": {},
   "outputs": [
    {
     "name": "stdout",
     "output_type": "stream",
     "text": [
      "+-----+----+------------+------+----+----------+----------+-----+-------------------+---------------+--------+--------+--------------+---------+\n",
      "|appid|name|release_date|genres|tags|developers|publishers|price|discount_percentage|recommendations|positive|negative|peak_playernum|dlc_count|\n",
      "+-----+----+------------+------+----+----------+----------+-----+-------------------+---------------+--------+--------+--------------+---------+\n",
      "|    0|   2|           0|     5|  10|         9|         9|    0|                 11|             10|     110|      75|             9|        0|\n",
      "+-----+----+------------+------+----+----------+----------+-----+-------------------+---------------+--------+--------+--------------+---------+\n",
      "\n"
     ]
    }
   ],
   "source": [
    "from pyspark.sql.functions import col, sum\n",
    "\n",
    "null_counts = df1.select([sum(col(c).isNull().cast(\"int\")).alias(c) for c in df1.columns])\n",
    "null_counts.show()"
   ]
  },
  {
   "cell_type": "code",
   "execution_count": null,
   "metadata": {},
   "outputs": [],
   "source": [
    "# We dropped null name rows, because a game without a name is invalid.\n",
    "# We dropped null tag rows, because there were quite a few of them and we do not get much out of them.\n",
    "# We dropped null peak_playernum rows, because if it has had no peak it means it it does not have a playerbase, so we do not need it.\n",
    "df_cleaned = df1.dropna(subset=[\"name\", \"tags\", \"peak_playernum\"])\n",
    "\n",
    "# We changed null genres into \"unknown\", because there were only two of them. It won't impact the analyzis much.\n",
    "df_filled = df_cleaned.fillna({\"genres\": \"unknown\", \"developers\": \"unknown\", \"publishers\": \"unknown\", \"discount_percentage\": \"0\", \"recommendations\": \"0\"\n",
    "                               ,\"positive\": \"0\", \"negative\": \"0\"})\n",
    "\n",
    "\n"
   ]
  },
  {
   "cell_type": "code",
   "execution_count": null,
   "metadata": {},
   "outputs": [],
   "source": [
    "from pyspark.sql.window import Window\n",
    "from pyspark.sql.functions import col, regexp_replace, trim, when, round"
   ]
  },
  {
   "cell_type": "code",
   "execution_count": null,
   "metadata": {},
   "outputs": [],
   "source": [
    "df = df_filled.withColumn(\n",
    "    \"positive_clean\",\n",
    "    when(\n",
    "        trim(col(\"positive\")).rlike(\"^\\d+$\"),\n",
    "        trim(col(\"positive\")).cast(\"double\")\n",
    "    ).otherwise(0)\n",
    ").withColumn(\n",
    "    \"negative_clean\",\n",
    "    when(\n",
    "        trim(col(\"negative\")).rlike(\"^\\d+$\"),\n",
    "        trim(col(\"negative\")).cast(\"double\")\n",
    "    ).otherwise(0)\n",
    ").withColumn(\n",
    "    \"all_reviews\",\n",
    "    round(col(\"positive_clean\") + col(\"negative_clean\"), 2)\n",
    ")\n"
   ]
  },
  {
   "cell_type": "code",
   "execution_count": null,
   "metadata": {},
   "outputs": [
    {
     "name": "stdout",
     "output_type": "stream",
     "text": [
      "+-------+--------------------+------------+--------------------+--------------------+--------------------+--------------------+-----+-------------------+---------------+--------+--------+--------------+---------+--------------+--------------+-----------+-------------------+-------------------+\n",
      "|  appid|                name|release_date|              genres|                tags|          developers|          publishers|price|discount_percentage|recommendations|positive|negative|peak_playernum|dlc_count|positive_clean|negative_clean|all_reviews|positive_percentage|negative_percentage|\n",
      "+-------+--------------------+------------+--------------------+--------------------+--------------------+--------------------+-----+-------------------+---------------+--------+--------+--------------+---------+--------------+--------------+-----------+-------------------+-------------------+\n",
      "|    730|    Counter-Strike 2|  21/08/2012|['Action', 'Free ...|{'FPS': 90857, 'S...|           ['Valve']|           ['Valve']|    0|                  0|        4401572| 7480813| 1135108|       1212356|        1|     7480813.0|     1135108.0|  8615921.0|              86.83|              13.17|\n",
      "| 578080| PUBG: BATTLEGROUNDS|  21/12/2017|['Action', 'Adven...|{'Survival': 1483...|['PUBG Corporation']|   ['KRAFTON, Inc.']|    0|                  0|        1732007| 1487960| 1024436|        616738|        0|     1487960.0|     1024436.0|  2512396.0|              59.22|              40.78|\n",
      "|    570|              Dota 2|  09/07/2013|['Action', 'Strat...|{'Free to Play': ...|           ['Valve']|           ['Valve']|    0|                  0|          14337| 1998462|  451338|        555977|        2|     1998462.0|      451338.0|  2449800.0|              81.58|              18.42|\n",
      "| 271590|Grand Theft Auto ...|  13/04/2015|['Action', 'Adven...|{'Open World': 32...|  ['Rockstar North']|  ['Rockstar Games']|    0|                  0|        1803063| 1719950|  250012|        117698|        0|     1719950.0|      250012.0|  1969962.0|              87.31|              12.69|\n",
      "| 488824|Tom Clancy's Rain...|  01/12/2015|          ['Action']|{'FPS': 8082, 'Mu...|['Ubisoft Montreal']|         ['Ubisoft']|19.99|                  0|        1160724|  312816|   64201|             0|        9|      312816.0|       64201.0|   377017.0|              82.97|              17.03|\n",
      "| 488822|Tom Clancy's Rain...|  01/12/2015|          ['Action']|{'FPS': 8078, 'Mu...|['Ubisoft Montreal']|         ['Ubisoft']|19.99|                  0|        1160500|  312397|   64151|             0|        9|      312397.0|       64151.0|   376548.0|              82.96|              17.04|\n",
      "| 488821|Tom Clancy's Rain...|  01/12/2015|          ['Action']|{'FPS': 8078, 'Mu...|['Ubisoft Montreal']|         ['Ubisoft']|19.99|                  0|        1160766|  312232|   64137|             0|        9|      312232.0|       64137.0|   376369.0|              82.96|              17.04|\n",
      "| 488823|Tom Clancy's Rain...|  01/12/2015|          ['Action']|{'FPS': 8082, 'Mu...|['Ubisoft Montreal']|         ['Ubisoft']|19.99|                  0|        1160526|  312719|   64188|             0|        9|      312719.0|       64188.0|   376907.0|              82.97|              17.03|\n",
      "| 359550|Tom Clancy's Rain...|  01/12/2015|          ['Action']|{'FPS': 9831, 'Pv...|['Ubisoft Montreal']|         ['Ubisoft']| 3.99|                 80|        1165929| 1152763|  218446|         89916|        9|     1152763.0|      218446.0|  1371209.0|              84.07|              15.93|\n",
      "|    440|     Team Fortress 2|  10/10/2007|['Action', 'Free ...|{'Free to Play': ...|           ['Valve']|           ['Valve']|    0|                  0|          41587| 1025633|  120619|         50817|        1|     1025633.0|      120619.0|  1146252.0|              89.48|              10.52|\n",
      "| 105600|            Terraria|  16/05/2011|['Action', 'Adven...|{'Open World Surv...|        ['Re-Logic']|        ['Re-Logic']| 9.99|                  0|        1098792| 1344773|   34460|         30516|        2|     1344773.0|       34460.0|  1379233.0|               97.5|                2.5|\n",
      "| 252490|                Rust|  08/02/2018|['Action', 'Adven...|{'Survival': 1859...|['Facepunch Studi...|['Facepunch Studi...|39.99|                  0|         992825| 1043708|  152272|        200902|        4|     1043708.0|      152272.0|  1195980.0|              87.27|              12.73|\n",
      "|   4000|         Garry's Mod|  29/11/2006|['Casual', 'Indie...|{'Sandbox': 18706...|['Facepunch Studi...|           ['Valve']| 5.99|                 40|         984713| 1106689|   36727|         32384|        0|     1106689.0|       36727.0|  1143416.0|              96.79|               3.21|\n",
      "|1172470|       Apex Legends™|  04/11/2020|['Action', 'Adven...|{'Free to Play': ...|         ['Respawn']| ['Electronic Arts']|    0|                  0|           1548|  660150|  322363|        151844|        0|      660150.0|      322363.0|   982513.0|              67.19|              32.81|\n",
      "|2358720|  Black Myth: Wukong|  19/08/2024|['Action', 'Adven...|{'Mythology': 942...|    ['Game Science']|    ['Game Science']|59.99|                  0|         825294| 1098373|   37811|         35990|        2|     1098373.0|       37811.0|  1136184.0|              96.67|               3.33|\n",
      "| 292030|The Witcher 3: Wi...|  18/05/2015|             ['RPG']|{'Open World': 12...|  ['CD PROJEKT RED']|  ['CD PROJEKT RED']|39.99|                  0|         761658|  791139|   31979|         15129|       22|      791139.0|       31979.0|   823118.0|              96.11|               3.89|\n",
      "|1245620|          ELDEN RING|  24/02/2022|   ['Action', 'RPG']|{'Souls-like': 68...|['FromSoftware, I...|['FromSoftware, I...|59.99|                  0|         749109|  956144|   73714|         46121|        2|      956144.0|       73714.0|  1029858.0|              92.84|               7.16|\n",
      "| 413150|      Stardew Valley|  26/02/2016|['Indie', 'RPG', ...|{'Farming Sim': 7...|    ['ConcernedApe']|    ['ConcernedApe']|14.99|                  0|         729406|  841413|   13440|         67309|        1|      841413.0|       13440.0|   854853.0|              98.43|               1.57|\n",
      "|1091500|      Cyberpunk 2077|  09/12/2020|             ['RPG']|{'Cyberpunk': 648...|  ['CD PROJEKT RED']|  ['CD PROJEKT RED']|59.99|                  0|         735210|  690253|  132012|         29239|        3|      690253.0|      132012.0|   822265.0|              83.95|              16.05|\n",
      "|1952710| BACKGAMMON Playtest|  10/10/2023|                  []|                  []|                  []|                  []|    0|                  0|              0|       0|       0|             0|        0|           0.0|           0.0|        0.0|               NULL|               NULL|\n",
      "+-------+--------------------+------------+--------------------+--------------------+--------------------+--------------------+-----+-------------------+---------------+--------+--------+--------------+---------+--------------+--------------+-----------+-------------------+-------------------+\n",
      "only showing top 20 rows\n",
      "\n"
     ]
    }
   ],
   "source": [
    "#creating the percentage of reviews columns\n",
    "df_with_percentages = df.withColumn(\n",
    "    \"positive_percentage\", \n",
    "    (F.col(\"positive\") / F.col(\"all_reviews\") * 100).cast(\"double\")\n",
    ").withColumn(\n",
    "    \"negative_percentage\", \n",
    "    (F.col(\"negative\") / F.col(\"all_reviews\") * 100).cast(\"double\")\n",
    ")\n",
    "\n",
    "df_with_percentages = df_with_percentages.withColumn(\n",
    "    \"positive_percentage\", \n",
    "    F.round(F.col(\"positive_percentage\"), 2)\n",
    ").withColumn(\n",
    "    \"negative_percentage\", \n",
    "    F.round(F.col(\"negative_percentage\"), 2)\n",
    ")\n",
    "\n",
    "df_with_percentages.show()\n"
   ]
  },
  {
   "cell_type": "code",
   "execution_count": null,
   "metadata": {},
   "outputs": [],
   "source": [
    "df = df_with_percentages.fillna({\"positive_percentage\": \"0\", \"negative_percentage\": \"0\"})"
   ]
  },
  {
   "cell_type": "code",
   "execution_count": null,
   "metadata": {},
   "outputs": [
    {
     "name": "stdout",
     "output_type": "stream",
     "text": [
      "+-----+----+------------+------+----+----------+----------+-----+-------------------+---------------+--------+--------+--------------+---------+--------------+--------------+-----------+-------------------+-------------------+\n",
      "|appid|name|release_date|genres|tags|developers|publishers|price|discount_percentage|recommendations|positive|negative|peak_playernum|dlc_count|positive_clean|negative_clean|all_reviews|positive_percentage|negative_percentage|\n",
      "+-----+----+------------+------+----+----------+----------+-----+-------------------+---------------+--------+--------+--------------+---------+--------------+--------------+-----------+-------------------+-------------------+\n",
      "|    0|   0|           0|     0|   0|         0|         0|    0|                  0|              0|       0|       0|             0|        0|             0|             0|          0|                  0|                  0|\n",
      "+-----+----+------------+------+----+----------+----------+-----+-------------------+---------------+--------+--------+--------------+---------+--------------+--------------+-----------+-------------------+-------------------+\n",
      "\n"
     ]
    }
   ],
   "source": [
    "null_counts = df.select([sum(col(c).isNull().cast(\"int\")).alias(c) for c in df.columns])\n",
    "null_counts.show()"
   ]
  },
  {
   "cell_type": "code",
   "execution_count": null,
   "metadata": {},
   "outputs": [
    {
     "name": "stdout",
     "output_type": "stream",
     "text": [
      "+-------+--------------------+------------+--------------------+--------------------+--------------------+--------------------+-----+-------------------+---------------+--------+--------+--------------+---------+--------------+--------------+-----------+-------------------+-------------------+\n",
      "|  appid|                name|release_date|              genres|                tags|          developers|          publishers|price|discount_percentage|recommendations|positive|negative|peak_playernum|dlc_count|positive_clean|negative_clean|all_reviews|positive_percentage|negative_percentage|\n",
      "+-------+--------------------+------------+--------------------+--------------------+--------------------+--------------------+-----+-------------------+---------------+--------+--------+--------------+---------+--------------+--------------+-----------+-------------------+-------------------+\n",
      "|    730|    Counter-Strike 2|  21/08/2012|['Action', 'Free ...|{'FPS': 90857, 'S...|           ['Valve']|           ['Valve']|    0|                  0|        4401572| 7480813| 1135108|       1212356|        1|     7480813.0|     1135108.0|  8615921.0|              86.83|              13.17|\n",
      "| 578080| PUBG: BATTLEGROUNDS|  21/12/2017|['Action', 'Adven...|{'Survival': 1483...|['PUBG Corporation']|   ['KRAFTON, Inc.']|    0|                  0|        1732007| 1487960| 1024436|        616738|        0|     1487960.0|     1024436.0|  2512396.0|              59.22|              40.78|\n",
      "|    570|              Dota 2|  09/07/2013|['Action', 'Strat...|{'Free to Play': ...|           ['Valve']|           ['Valve']|    0|                  0|          14337| 1998462|  451338|        555977|        2|     1998462.0|      451338.0|  2449800.0|              81.58|              18.42|\n",
      "| 271590|Grand Theft Auto ...|  13/04/2015|['Action', 'Adven...|{'Open World': 32...|  ['Rockstar North']|  ['Rockstar Games']|    0|                  0|        1803063| 1719950|  250012|        117698|        0|     1719950.0|      250012.0|  1969962.0|              87.31|              12.69|\n",
      "| 488824|Tom Clancy's Rain...|  01/12/2015|          ['Action']|{'FPS': 8082, 'Mu...|['Ubisoft Montreal']|         ['Ubisoft']|19.99|                  0|        1160724|  312816|   64201|             0|        9|      312816.0|       64201.0|   377017.0|              82.97|              17.03|\n",
      "| 488822|Tom Clancy's Rain...|  01/12/2015|          ['Action']|{'FPS': 8078, 'Mu...|['Ubisoft Montreal']|         ['Ubisoft']|19.99|                  0|        1160500|  312397|   64151|             0|        9|      312397.0|       64151.0|   376548.0|              82.96|              17.04|\n",
      "| 488821|Tom Clancy's Rain...|  01/12/2015|          ['Action']|{'FPS': 8078, 'Mu...|['Ubisoft Montreal']|         ['Ubisoft']|19.99|                  0|        1160766|  312232|   64137|             0|        9|      312232.0|       64137.0|   376369.0|              82.96|              17.04|\n",
      "| 488823|Tom Clancy's Rain...|  01/12/2015|          ['Action']|{'FPS': 8082, 'Mu...|['Ubisoft Montreal']|         ['Ubisoft']|19.99|                  0|        1160526|  312719|   64188|             0|        9|      312719.0|       64188.0|   376907.0|              82.97|              17.03|\n",
      "| 359550|Tom Clancy's Rain...|  01/12/2015|          ['Action']|{'FPS': 9831, 'Pv...|['Ubisoft Montreal']|         ['Ubisoft']| 3.99|                 80|        1165929| 1152763|  218446|         89916|        9|     1152763.0|      218446.0|  1371209.0|              84.07|              15.93|\n",
      "|    440|     Team Fortress 2|  10/10/2007|['Action', 'Free ...|{'Free to Play': ...|           ['Valve']|           ['Valve']|    0|                  0|          41587| 1025633|  120619|         50817|        1|     1025633.0|      120619.0|  1146252.0|              89.48|              10.52|\n",
      "| 105600|            Terraria|  16/05/2011|['Action', 'Adven...|{'Open World Surv...|        ['Re-Logic']|        ['Re-Logic']| 9.99|                  0|        1098792| 1344773|   34460|         30516|        2|     1344773.0|       34460.0|  1379233.0|               97.5|                2.5|\n",
      "| 252490|                Rust|  08/02/2018|['Action', 'Adven...|{'Survival': 1859...|['Facepunch Studi...|['Facepunch Studi...|39.99|                  0|         992825| 1043708|  152272|        200902|        4|     1043708.0|      152272.0|  1195980.0|              87.27|              12.73|\n",
      "|   4000|         Garry's Mod|  29/11/2006|['Casual', 'Indie...|{'Sandbox': 18706...|['Facepunch Studi...|           ['Valve']| 5.99|                 40|         984713| 1106689|   36727|         32384|        0|     1106689.0|       36727.0|  1143416.0|              96.79|               3.21|\n",
      "|1172470|       Apex Legends™|  04/11/2020|['Action', 'Adven...|{'Free to Play': ...|         ['Respawn']| ['Electronic Arts']|    0|                  0|           1548|  660150|  322363|        151844|        0|      660150.0|      322363.0|   982513.0|              67.19|              32.81|\n",
      "|2358720|  Black Myth: Wukong|  19/08/2024|['Action', 'Adven...|{'Mythology': 942...|    ['Game Science']|    ['Game Science']|59.99|                  0|         825294| 1098373|   37811|         35990|        2|     1098373.0|       37811.0|  1136184.0|              96.67|               3.33|\n",
      "| 292030|The Witcher 3: Wi...|  18/05/2015|             ['RPG']|{'Open World': 12...|  ['CD PROJEKT RED']|  ['CD PROJEKT RED']|39.99|                  0|         761658|  791139|   31979|         15129|       22|      791139.0|       31979.0|   823118.0|              96.11|               3.89|\n",
      "|1245620|          ELDEN RING|  24/02/2022|   ['Action', 'RPG']|{'Souls-like': 68...|['FromSoftware, I...|['FromSoftware, I...|59.99|                  0|         749109|  956144|   73714|         46121|        2|      956144.0|       73714.0|  1029858.0|              92.84|               7.16|\n",
      "| 413150|      Stardew Valley|  26/02/2016|['Indie', 'RPG', ...|{'Farming Sim': 7...|    ['ConcernedApe']|    ['ConcernedApe']|14.99|                  0|         729406|  841413|   13440|         67309|        1|      841413.0|       13440.0|   854853.0|              98.43|               1.57|\n",
      "|1091500|      Cyberpunk 2077|  09/12/2020|             ['RPG']|{'Cyberpunk': 648...|  ['CD PROJEKT RED']|  ['CD PROJEKT RED']|59.99|                  0|         735210|  690253|  132012|         29239|        3|      690253.0|      132012.0|   822265.0|              83.95|              16.05|\n",
      "|1952710| BACKGAMMON Playtest|  10/10/2023|                  []|                  []|                  []|                  []|    0|                  0|              0|       0|       0|             0|        0|           0.0|           0.0|        0.0|                0.0|                0.0|\n",
      "+-------+--------------------+------------+--------------------+--------------------+--------------------+--------------------+-----+-------------------+---------------+--------+--------+--------------+---------+--------------+--------------+-----------+-------------------+-------------------+\n",
      "only showing top 20 rows\n",
      "\n"
     ]
    }
   ],
   "source": [
    "df.show()"
   ]
  },
  {
   "cell_type": "markdown",
   "metadata": {},
   "source": [
    "**Duplicates**"
   ]
  },
  {
   "cell_type": "code",
   "execution_count": null,
   "metadata": {},
   "outputs": [
    {
     "name": "stdout",
     "output_type": "stream",
     "text": [
      "+--------------------+-----+\n",
      "|               appid|count|\n",
      "+--------------------+-----+\n",
      "|nd deciding the s...|    2|\n",
      "|   ahead of schedule|    2|\n",
      "+--------------------+-----+\n",
      "\n",
      "+--------------------+-----+\n",
      "|                name|count|\n",
      "+--------------------+-----+\n",
      "|      Eternal Return|    2|\n",
      "|               Nomad|    2|\n",
      "|Loading Screen Si...|    2|\n",
      "|The Lord of the R...|    2|\n",
      "|             Journey|    2|\n",
      "|Call of Duty®: Bl...|    2|\n",
      "|        Blood Strike|    2|\n",
      "|Call of Duty®: Bl...|    2|\n",
      "|    EA SPORTS FC™ 24|    4|\n",
      "|              ISLAND|    2|\n",
      "|Romance of the Th...|    2|\n",
      "|            Downfall|    2|\n",
      "|     torpedo strikes|    2|\n",
      "|                Home|    2|\n",
      "|Ys I & II Chronic...|    2|\n",
      "| Monday Night Combat|    2|\n",
      "|               Chasm|    2|\n",
      "|       Second Chance|    2|\n",
      "|      Hero's Journey|    3|\n",
      "|          The Bunker|    3|\n",
      "+--------------------+-----+\n",
      "only showing top 20 rows\n",
      "\n"
     ]
    }
   ],
   "source": [
    "id_duplicates = df.groupBy(\"appid\").count().filter(\"count > 1\")\n",
    "name_duplicates = df.groupBy(\"name\").count().filter(\"count > 1\")\n",
    "\n",
    "id_duplicates.show()\n",
    "name_duplicates.show()"
   ]
  },
  {
   "cell_type": "code",
   "execution_count": null,
   "metadata": {},
   "outputs": [
    {
     "name": "stdout",
     "output_type": "stream",
     "text": [
      "+----+-----+\n",
      "|name|count|\n",
      "+----+-----+\n",
      "+----+-----+\n",
      "\n"
     ]
    }
   ],
   "source": [
    "df_no_duplicates = df.dropDuplicates([\"name\"])\n",
    "\n",
    "name_duplicates = df_no_duplicates.groupBy(\"name\").count().filter(\"count > 1\")\n",
    "name_duplicates.show()"
   ]
  },
  {
   "cell_type": "code",
   "execution_count": null,
   "metadata": {},
   "outputs": [],
   "source": [
    "used_columns = [\n",
    "    \"appid\", \"name\", \"release_date\", \"genres\", \"tags\", \"developers\", \"publishers\",\n",
    "    \"price\", \"discount_percentage\", \"recommendations\", \"peak_playernum\", \"dlc_count\", \"all_reviews\", \"positive_percentage\", \"negative_percentage\"\n",
    "]\n",
    "\n",
    "df_final = df_no_duplicates.select(*used_columns)"
   ]
  },
  {
   "cell_type": "code",
   "execution_count": null,
   "metadata": {},
   "outputs": [
    {
     "name": "stdout",
     "output_type": "stream",
     "text": [
      "+-------+------------------------------------+------------+--------------------+--------------------+--------------------+--------------------+-----+-------------------+---------------+--------------+---------+-----------+-------------------+-------------------+\n",
      "|  appid|                                name|release_date|              genres|                tags|          developers|          publishers|price|discount_percentage|recommendations|peak_playernum|dlc_count|all_reviews|positive_percentage|negative_percentage|\n",
      "+-------+------------------------------------+------------+--------------------+--------------------+--------------------+--------------------+-----+-------------------+---------------+--------------+---------+-----------+-------------------+-------------------+\n",
      "|3066390|\"軍艦島探訪記　ある写真家の記録　...|  01/08/2024|      ['Simulation']|{'Simulation': 53...|         ['XYimage']|         ['XYimage']|19.99|                  0|              0|             0|        0|        4.0|               75.0|               25.0|\n",
      "|1364510|                  'Member the Alamo?|  30/10/2020|          ['Action']|{'Action': 64, 'S...|['Blue Collar Gam...|['Blue Collar Gam...| 4.99|                  0|              0|             0|        0|       72.0|              80.56|              19.44|\n",
      "|1566990|                                 -A-|  19/05/2021| ['Action', 'Indie']|{'Action': 66, 'S...|     ['Racing Bros']|         ['ANPA.US']| 0.99|                  0|              0|             0|        0|       26.0|              65.38|              34.62|\n",
      "|1963980|                                 ...|  04/05/2022|['Action', 'Adven...|{'Adventure': 67,...|      ['GDE ANIMES']|      ['GDE ANIMES']| 1.99|                  0|              0|             0|        0|        8.0|               50.0|               50.0|\n",
      "| 771710|                .T.E.S.T: Expecte...|  03/05/2018|['Action', 'Adven...|{'Puzzle': 54, 'I...|     ['Veslo Games']|     ['Veslo Games']| 5.99|                  0|              0|             0|        0|       91.0|              74.73|              25.27|\n",
      "|3396850|                                  /R|  23/01/2025|['Adventure', 'In...|{'Psychological H...|['negative_develo...|['negative_develo...| 9.99|                  0|              0|             0|        0|        1.0|              100.0|                0.0|\n",
      "|3037060|                    100 Waiting Cats|  06/10/2024|['Action', 'Adven...|                  []|  ['100 Cozy Games']|  ['100 Cozy Games']|    0|                  0|              0|             0|        3|        0.0|                0.0|                0.0|\n",
      "|1740240|                     100 hidden cups|  15/09/2021|['Adventure', 'Ca...|{'Casual': 256, '...|['Anatoliy Logino...|['Anatoliy Logino...| 0.99|                  0|            359|             0|        0|      366.0|              40.16|              59.84|\n",
      "|3287980|                100% Wedding Miss...|  23/12/2024|    ['Indie', 'RPG']|{'Comedy': 45, 'R...|         ['AvoCavo']|         ['AvoCavo']|12.99|                  0|              0|             0|        0|        3.0|              100.0|                0.0|\n",
      "|2382200|                1001 Jigsaw World...|  22/10/2023|          ['Casual']|{'Casual': 70, 'B...|          ['8floor']|          ['8floor']| 4.99|                  0|              0|             0|        0|        3.0|              33.33|              66.67|\n",
      "+-------+------------------------------------+------------+--------------------+--------------------+--------------------+--------------------+-----+-------------------+---------------+--------------+---------+-----------+-------------------+-------------------+\n",
      "only showing top 10 rows\n",
      "\n"
     ]
    }
   ],
   "source": [
    "df_final.show(10)"
   ]
  },
  {
   "cell_type": "markdown",
   "metadata": {},
   "source": [
    "# Spark optimization\n"
   ]
  },
  {
   "cell_type": "code",
   "execution_count": null,
   "metadata": {},
   "outputs": [
    {
     "data": {
      "text/plain": [
       "DataFrame[appid: string, name: string, release_date: string, genres: string, tags: string, developers: string, publishers: string, price: string, discount_percentage: string, recommendations: string, peak_playernum: string, dlc_count: string, all_reviews: double, positive_percentage: double, negative_percentage: double]"
      ]
     },
     "execution_count": 45,
     "metadata": {},
     "output_type": "execute_result"
    }
   ],
   "source": [
    "# Cache the DataFrame if it will be used multiple times\n",
    "df_final.cache()\n"
   ]
  },
  {
   "cell_type": "code",
   "execution_count": null,
   "metadata": {},
   "outputs": [
    {
     "name": "stdout",
     "output_type": "stream",
     "text": [
      "== Parsed Logical Plan ==\n",
      "'Project ['appid, 'name, 'release_date, 'genres, 'tags, 'developers, 'publishers, 'price, 'discount_percentage, 'recommendations, 'peak_playernum, 'dlc_count, 'all_reviews, 'positive_percentage, 'negative_percentage]\n",
      "+- Deduplicate [name#18]\n",
      "   +- Project [appid#17, name#18, release_date#19, genres#6539, tags#58, developers#6540, publishers#6541, price#21, discount_percentage#6542, recommendations#6543, positive#6544, negative#6545, peak_playernum#6237, dlc_count#22, positive_clean#7504, negative_clean#7520, all_reviews#7537, coalesce(nanvl(positive_percentage#8089, cast(null as double)), cast(0 as double)) AS positive_percentage#8239, coalesce(nanvl(negative_percentage#8109, cast(null as double)), cast(0 as double)) AS negative_percentage#8240]\n",
      "      +- Project [appid#17, name#18, release_date#19, genres#6539, tags#58, developers#6540, publishers#6541, price#21, discount_percentage#6542, recommendations#6543, positive#6544, negative#6545, peak_playernum#6237, dlc_count#22, positive_clean#7504, negative_clean#7520, all_reviews#7537, positive_percentage#8089, round(negative_percentage#8069, 2) AS negative_percentage#8109]\n",
      "         +- Project [appid#17, name#18, release_date#19, genres#6539, tags#58, developers#6540, publishers#6541, price#21, discount_percentage#6542, recommendations#6543, positive#6544, negative#6545, peak_playernum#6237, dlc_count#22, positive_clean#7504, negative_clean#7520, all_reviews#7537, round(positive_percentage#8049, 2) AS positive_percentage#8089, negative_percentage#8069]\n",
      "            +- Project [appid#17, name#18, release_date#19, genres#6539, tags#58, developers#6540, publishers#6541, price#21, discount_percentage#6542, recommendations#6543, positive#6544, negative#6545, peak_playernum#6237, dlc_count#22, positive_clean#7504, negative_clean#7520, all_reviews#7537, positive_percentage#8049, cast(((cast(negative#6545 as double) / all_reviews#7537) * cast(100 as double)) as double) AS negative_percentage#8069]\n",
      "               +- Project [appid#17, name#18, release_date#19, genres#6539, tags#58, developers#6540, publishers#6541, price#21, discount_percentage#6542, recommendations#6543, positive#6544, negative#6545, peak_playernum#6237, dlc_count#22, positive_clean#7504, negative_clean#7520, all_reviews#7537, cast(((cast(positive#6544 as double) / all_reviews#7537) * cast(100 as double)) as double) AS positive_percentage#8049, negative_percentage#7574]\n",
      "                  +- Project [appid#17, name#18, release_date#19, genres#6539, tags#58, developers#6540, publishers#6541, price#21, discount_percentage#6542, recommendations#6543, positive#6544, negative#6545, peak_playernum#6237, dlc_count#22, positive_clean#7504, negative_clean#7520, all_reviews#7537, positive_percentage#7555, ((negative_clean#7520 / all_reviews#7537) * cast(100 as double)) AS negative_percentage#7574]\n",
      "                     +- Project [appid#17, name#18, release_date#19, genres#6539, tags#58, developers#6540, publishers#6541, price#21, discount_percentage#6542, recommendations#6543, positive#6544, negative#6545, peak_playernum#6237, dlc_count#22, positive_clean#7504, negative_clean#7520, all_reviews#7537, ((positive_clean#7504 / all_reviews#7537) * cast(100 as double)) AS positive_percentage#7555]\n",
      "                        +- Project [appid#17, name#18, release_date#19, genres#6539, tags#58, developers#6540, publishers#6541, price#21, discount_percentage#6542, recommendations#6543, positive#6544, negative#6545, peak_playernum#6237, dlc_count#22, positive_clean#7504, negative_clean#7520, (positive_clean#7504 + negative_clean#7520) AS all_reviews#7537]\n",
      "                           +- Project [appid#17, name#18, release_date#19, genres#6539, tags#58, developers#6540, publishers#6541, price#21, discount_percentage#6542, recommendations#6543, positive#6544, negative#6545, peak_playernum#6237, dlc_count#22, positive_clean#7504, CASE WHEN RLIKE(negative#6545, ^\\d+$) THEN cast(negative#6545 as double) ELSE cast(0 as double) END AS negative_clean#7520]\n",
      "                              +- Project [appid#17, name#18, release_date#19, genres#6539, tags#58, developers#6540, publishers#6541, price#21, discount_percentage#6542, recommendations#6543, positive#6544, negative#6545, peak_playernum#6237, dlc_count#22, CASE WHEN RLIKE(positive#6544, ^\\d+$) THEN cast(positive#6544 as double) ELSE cast(0 as double) END AS positive_clean#7504]\n",
      "                                 +- Project [appid#17, name#18, release_date#19, coalesce(genres#44, cast(unknown as string)) AS genres#6539, tags#58, coalesce(developers#41, cast(unknown as string)) AS developers#6540, coalesce(publishers#42, cast(unknown as string)) AS publishers#6541, price#21, coalesce(discount_percentage#6222, cast(0 as string)) AS discount_percentage#6542, coalesce(recommendations#37, cast(0 as string)) AS recommendations#6543, coalesce(positive#49, cast(0 as string)) AS positive#6544, coalesce(negative#50, cast(0 as string)) AS negative#6545, peak_playernum#6237, dlc_count#22]\n",
      "                                    +- Filter atleastnnonnulls(3, name#18, tags#58, peak_playernum#6237)\n",
      "                                       +- Project [appid#17, name#18, release_date#19, genres#44, tags#58, developers#41, publishers#42, price#21, discount_percentage#6222, recommendations#37, positive#49, negative#50, peak_ccu#57 AS peak_playernum#6237, dlc_count#22]\n",
      "                                          +- Project [appid#17, name#18, release_date#19, genres#44, tags#58, developers#41, publishers#42, price#21, discount#56 AS discount_percentage#6222, recommendations#37, positive#49, negative#50, peak_ccu#57, dlc_count#22]\n",
      "                                             +- Project [appid#17, name#18, release_date#19, genres#44, tags#58, developers#41, publishers#42, price#21, discount#56, recommendations#37, positive#49, negative#50, peak_ccu#57, dlc_count#22]\n",
      "                                                +- Relation [appid#17,name#18,release_date#19,required_age#20,price#21,dlc_count#22,detailed_description#23,about_the_game#24,short_description#25,reviews#26,header_image#27,website#28,support_url#29,support_email#30,windows#31,mac#32,linux#33,metacritic_score#34,metacritic_url#35,achievements#36,recommendations#37,notes#38,supported_languages#39,full_audio_languages#40,... 850 more fields] csv\n",
      "\n",
      "== Analyzed Logical Plan ==\n",
      "appid: string, name: string, release_date: string, genres: string, tags: string, developers: string, publishers: string, price: string, discount_percentage: string, recommendations: string, peak_playernum: string, dlc_count: string, all_reviews: double, positive_percentage: double, negative_percentage: double\n",
      "Project [appid#17, name#18, release_date#19, genres#6539, tags#58, developers#6540, publishers#6541, price#21, discount_percentage#6542, recommendations#6543, peak_playernum#6237, dlc_count#22, all_reviews#7537, positive_percentage#8239, negative_percentage#8240]\n",
      "+- Deduplicate [name#18]\n",
      "   +- Project [appid#17, name#18, release_date#19, genres#6539, tags#58, developers#6540, publishers#6541, price#21, discount_percentage#6542, recommendations#6543, positive#6544, negative#6545, peak_playernum#6237, dlc_count#22, positive_clean#7504, negative_clean#7520, all_reviews#7537, coalesce(nanvl(positive_percentage#8089, cast(null as double)), cast(0 as double)) AS positive_percentage#8239, coalesce(nanvl(negative_percentage#8109, cast(null as double)), cast(0 as double)) AS negative_percentage#8240]\n",
      "      +- Project [appid#17, name#18, release_date#19, genres#6539, tags#58, developers#6540, publishers#6541, price#21, discount_percentage#6542, recommendations#6543, positive#6544, negative#6545, peak_playernum#6237, dlc_count#22, positive_clean#7504, negative_clean#7520, all_reviews#7537, positive_percentage#8089, round(negative_percentage#8069, 2) AS negative_percentage#8109]\n",
      "         +- Project [appid#17, name#18, release_date#19, genres#6539, tags#58, developers#6540, publishers#6541, price#21, discount_percentage#6542, recommendations#6543, positive#6544, negative#6545, peak_playernum#6237, dlc_count#22, positive_clean#7504, negative_clean#7520, all_reviews#7537, round(positive_percentage#8049, 2) AS positive_percentage#8089, negative_percentage#8069]\n",
      "            +- Project [appid#17, name#18, release_date#19, genres#6539, tags#58, developers#6540, publishers#6541, price#21, discount_percentage#6542, recommendations#6543, positive#6544, negative#6545, peak_playernum#6237, dlc_count#22, positive_clean#7504, negative_clean#7520, all_reviews#7537, positive_percentage#8049, cast(((cast(negative#6545 as double) / all_reviews#7537) * cast(100 as double)) as double) AS negative_percentage#8069]\n",
      "               +- Project [appid#17, name#18, release_date#19, genres#6539, tags#58, developers#6540, publishers#6541, price#21, discount_percentage#6542, recommendations#6543, positive#6544, negative#6545, peak_playernum#6237, dlc_count#22, positive_clean#7504, negative_clean#7520, all_reviews#7537, cast(((cast(positive#6544 as double) / all_reviews#7537) * cast(100 as double)) as double) AS positive_percentage#8049, negative_percentage#7574]\n",
      "                  +- Project [appid#17, name#18, release_date#19, genres#6539, tags#58, developers#6540, publishers#6541, price#21, discount_percentage#6542, recommendations#6543, positive#6544, negative#6545, peak_playernum#6237, dlc_count#22, positive_clean#7504, negative_clean#7520, all_reviews#7537, positive_percentage#7555, ((negative_clean#7520 / all_reviews#7537) * cast(100 as double)) AS negative_percentage#7574]\n",
      "                     +- Project [appid#17, name#18, release_date#19, genres#6539, tags#58, developers#6540, publishers#6541, price#21, discount_percentage#6542, recommendations#6543, positive#6544, negative#6545, peak_playernum#6237, dlc_count#22, positive_clean#7504, negative_clean#7520, all_reviews#7537, ((positive_clean#7504 / all_reviews#7537) * cast(100 as double)) AS positive_percentage#7555]\n",
      "                        +- Project [appid#17, name#18, release_date#19, genres#6539, tags#58, developers#6540, publishers#6541, price#21, discount_percentage#6542, recommendations#6543, positive#6544, negative#6545, peak_playernum#6237, dlc_count#22, positive_clean#7504, negative_clean#7520, (positive_clean#7504 + negative_clean#7520) AS all_reviews#7537]\n",
      "                           +- Project [appid#17, name#18, release_date#19, genres#6539, tags#58, developers#6540, publishers#6541, price#21, discount_percentage#6542, recommendations#6543, positive#6544, negative#6545, peak_playernum#6237, dlc_count#22, positive_clean#7504, CASE WHEN RLIKE(negative#6545, ^\\d+$) THEN cast(negative#6545 as double) ELSE cast(0 as double) END AS negative_clean#7520]\n",
      "                              +- Project [appid#17, name#18, release_date#19, genres#6539, tags#58, developers#6540, publishers#6541, price#21, discount_percentage#6542, recommendations#6543, positive#6544, negative#6545, peak_playernum#6237, dlc_count#22, CASE WHEN RLIKE(positive#6544, ^\\d+$) THEN cast(positive#6544 as double) ELSE cast(0 as double) END AS positive_clean#7504]\n",
      "                                 +- Project [appid#17, name#18, release_date#19, coalesce(genres#44, cast(unknown as string)) AS genres#6539, tags#58, coalesce(developers#41, cast(unknown as string)) AS developers#6540, coalesce(publishers#42, cast(unknown as string)) AS publishers#6541, price#21, coalesce(discount_percentage#6222, cast(0 as string)) AS discount_percentage#6542, coalesce(recommendations#37, cast(0 as string)) AS recommendations#6543, coalesce(positive#49, cast(0 as string)) AS positive#6544, coalesce(negative#50, cast(0 as string)) AS negative#6545, peak_playernum#6237, dlc_count#22]\n",
      "                                    +- Filter atleastnnonnulls(3, name#18, tags#58, peak_playernum#6237)\n",
      "                                       +- Project [appid#17, name#18, release_date#19, genres#44, tags#58, developers#41, publishers#42, price#21, discount_percentage#6222, recommendations#37, positive#49, negative#50, peak_ccu#57 AS peak_playernum#6237, dlc_count#22]\n",
      "                                          +- Project [appid#17, name#18, release_date#19, genres#44, tags#58, developers#41, publishers#42, price#21, discount#56 AS discount_percentage#6222, recommendations#37, positive#49, negative#50, peak_ccu#57, dlc_count#22]\n",
      "                                             +- Project [appid#17, name#18, release_date#19, genres#44, tags#58, developers#41, publishers#42, price#21, discount#56, recommendations#37, positive#49, negative#50, peak_ccu#57, dlc_count#22]\n",
      "                                                +- Relation [appid#17,name#18,release_date#19,required_age#20,price#21,dlc_count#22,detailed_description#23,about_the_game#24,short_description#25,reviews#26,header_image#27,website#28,support_url#29,support_email#30,windows#31,mac#32,linux#33,metacritic_score#34,metacritic_url#35,achievements#36,recommendations#37,notes#38,supported_languages#39,full_audio_languages#40,... 850 more fields] csv\n",
      "\n",
      "== Optimized Logical Plan ==\n",
      "InMemoryRelation [appid#17, name#18, release_date#19, genres#6539, tags#58, developers#6540, publishers#6541, price#21, discount_percentage#6542, recommendations#6543, peak_playernum#6237, dlc_count#22, all_reviews#7537, positive_percentage#8239, negative_percentage#8240], StorageLevel(disk, memory, deserialized, 1 replicas)\n",
      "   +- AdaptiveSparkPlan isFinalPlan=false\n",
      "      +- SortAggregate(key=[name#18], functions=[first(appid#17, false), first(release_date#19, false), first(genres#6539, false), first(tags#58, false), first(developers#6540, false), first(publishers#6541, false), first(price#21, false), first(discount_percentage#6542, false), first(recommendations#6543, false), first(peak_playernum#6237, false), first(dlc_count#22, false), first(all_reviews#7537, false), first(positive_percentage#8239, false), first(negative_percentage#8240, false)], output=[appid#11062, name#18, release_date#11064, genres#11066, tags#11068, developers#11070, publishers#11072, price#11074, discount_percentage#11076, recommendations#11078, peak_playernum#11084, dlc_count#11086, all_reviews#11092, positive_percentage#11094, negative_percentage#11096])\n",
      "         +- Sort [name#18 ASC NULLS FIRST], false, 0\n",
      "            +- Exchange hashpartitioning(name#18, 200), ENSURE_REQUIREMENTS, [plan_id=2060]\n",
      "               +- SortAggregate(key=[name#18], functions=[partial_first(appid#17, false), partial_first(release_date#19, false), partial_first(genres#6539, false), partial_first(tags#58, false), partial_first(developers#6540, false), partial_first(publishers#6541, false), partial_first(price#21, false), partial_first(discount_percentage#6542, false), partial_first(recommendations#6543, false), partial_first(peak_playernum#6237, false), partial_first(dlc_count#22, false), partial_first(all_reviews#7537, false), partial_first(positive_percentage#8239, false), partial_first(negative_percentage#8240, false)], output=[name#18, first#11125, valueSet#11126, first#11127, valueSet#11128, first#11129, valueSet#11130, first#11131, valueSet#11132, first#11133, valueSet#11134, first#11135, valueSet#11136, first#11137, valueSet#11138, first#11139, valueSet#11140, first#11141, valueSet#11142, first#11143, valueSet#11144, first#11145, valueSet#11146, first#11147, ... 5 more fields])\n",
      "                  +- Sort [name#18 ASC NULLS FIRST], false, 0\n",
      "                     +- Project [appid#17, name#18, release_date#19, genres#6539, tags#58, developers#6540, publishers#6541, price#21, discount_percentage#6542, recommendations#6543, peak_playernum#6237, dlc_count#22, all_reviews#7537, coalesce(nanvl(round(((cast(positive#6544 as double) / all_reviews#7537) * 100.0), 2), null), 0.0) AS positive_percentage#8239, coalesce(nanvl(round(((cast(negative#6545 as double) / all_reviews#7537) * 100.0), 2), null), 0.0) AS negative_percentage#8240]\n",
      "                        +- Project [appid#17, name#18, release_date#19, genres#6539, tags#58, developers#6540, publishers#6541, price#21, discount_percentage#6542, recommendations#6543, positive#6544, negative#6545, peak_playernum#6237, dlc_count#22, (CASE WHEN RLIKE(positive#6544, ^\\d+$) THEN cast(positive#6544 as double) ELSE 0.0 END + CASE WHEN RLIKE(negative#6545, ^\\d+$) THEN cast(negative#6545 as double) ELSE 0.0 END) AS all_reviews#7537]\n",
      "                           +- Project [appid#17, name#18, release_date#19, coalesce(genres#44, unknown) AS genres#6539, tags#58, coalesce(developers#41, unknown) AS developers#6540, coalesce(publishers#42, unknown) AS publishers#6541, price#21, coalesce(discount#56, 0) AS discount_percentage#6542, coalesce(recommendations#37, 0) AS recommendations#6543, coalesce(positive#49, 0) AS positive#6544, coalesce(negative#50, 0) AS negative#6545, peak_ccu#57 AS peak_playernum#6237, dlc_count#22]\n",
      "                              +- Filter atleastnnonnulls(3, name#18, tags#58, peak_ccu#57)\n",
      "                                 +- FileScan csv [appid#17,name#18,release_date#19,price#21,dlc_count#22,recommendations#37,developers#41,publishers#42,genres#44,positive#49,negative#50,discount#56,peak_ccu#57,tags#58] Batched: false, DataFilters: [atleastnnonnulls(3, name#18, tags#58, peak_ccu#57)], Format: CSV, Location: InMemoryFileIndex(1 paths)[file:/c:/Users/ania/Documents/HAMK-VSC/bigdata/github/BigDataTechnolog..., PartitionFilters: [], PushedFilters: [], ReadSchema: struct<appid:string,name:string,release_date:string,price:string,dlc_count:string,recommendations...\n",
      "\n",
      "== Physical Plan ==\n",
      "AdaptiveSparkPlan isFinalPlan=false\n",
      "+- InMemoryTableScan [appid#17, name#18, release_date#19, genres#6539, tags#58, developers#6540, publishers#6541, price#21, discount_percentage#6542, recommendations#6543, peak_playernum#6237, dlc_count#22, all_reviews#7537, positive_percentage#8239, negative_percentage#8240]\n",
      "      +- InMemoryRelation [appid#17, name#18, release_date#19, genres#6539, tags#58, developers#6540, publishers#6541, price#21, discount_percentage#6542, recommendations#6543, peak_playernum#6237, dlc_count#22, all_reviews#7537, positive_percentage#8239, negative_percentage#8240], StorageLevel(disk, memory, deserialized, 1 replicas)\n",
      "            +- AdaptiveSparkPlan isFinalPlan=false\n",
      "               +- SortAggregate(key=[name#18], functions=[first(appid#17, false), first(release_date#19, false), first(genres#6539, false), first(tags#58, false), first(developers#6540, false), first(publishers#6541, false), first(price#21, false), first(discount_percentage#6542, false), first(recommendations#6543, false), first(peak_playernum#6237, false), first(dlc_count#22, false), first(all_reviews#7537, false), first(positive_percentage#8239, false), first(negative_percentage#8240, false)], output=[appid#11062, name#18, release_date#11064, genres#11066, tags#11068, developers#11070, publishers#11072, price#11074, discount_percentage#11076, recommendations#11078, peak_playernum#11084, dlc_count#11086, all_reviews#11092, positive_percentage#11094, negative_percentage#11096])\n",
      "                  +- Sort [name#18 ASC NULLS FIRST], false, 0\n",
      "                     +- Exchange hashpartitioning(name#18, 200), ENSURE_REQUIREMENTS, [plan_id=2060]\n",
      "                        +- SortAggregate(key=[name#18], functions=[partial_first(appid#17, false), partial_first(release_date#19, false), partial_first(genres#6539, false), partial_first(tags#58, false), partial_first(developers#6540, false), partial_first(publishers#6541, false), partial_first(price#21, false), partial_first(discount_percentage#6542, false), partial_first(recommendations#6543, false), partial_first(peak_playernum#6237, false), partial_first(dlc_count#22, false), partial_first(all_reviews#7537, false), partial_first(positive_percentage#8239, false), partial_first(negative_percentage#8240, false)], output=[name#18, first#11125, valueSet#11126, first#11127, valueSet#11128, first#11129, valueSet#11130, first#11131, valueSet#11132, first#11133, valueSet#11134, first#11135, valueSet#11136, first#11137, valueSet#11138, first#11139, valueSet#11140, first#11141, valueSet#11142, first#11143, valueSet#11144, first#11145, valueSet#11146, first#11147, ... 5 more fields])\n",
      "                           +- Sort [name#18 ASC NULLS FIRST], false, 0\n",
      "                              +- Project [appid#17, name#18, release_date#19, genres#6539, tags#58, developers#6540, publishers#6541, price#21, discount_percentage#6542, recommendations#6543, peak_playernum#6237, dlc_count#22, all_reviews#7537, coalesce(nanvl(round(((cast(positive#6544 as double) / all_reviews#7537) * 100.0), 2), null), 0.0) AS positive_percentage#8239, coalesce(nanvl(round(((cast(negative#6545 as double) / all_reviews#7537) * 100.0), 2), null), 0.0) AS negative_percentage#8240]\n",
      "                                 +- Project [appid#17, name#18, release_date#19, genres#6539, tags#58, developers#6540, publishers#6541, price#21, discount_percentage#6542, recommendations#6543, positive#6544, negative#6545, peak_playernum#6237, dlc_count#22, (CASE WHEN RLIKE(positive#6544, ^\\d+$) THEN cast(positive#6544 as double) ELSE 0.0 END + CASE WHEN RLIKE(negative#6545, ^\\d+$) THEN cast(negative#6545 as double) ELSE 0.0 END) AS all_reviews#7537]\n",
      "                                    +- Project [appid#17, name#18, release_date#19, coalesce(genres#44, unknown) AS genres#6539, tags#58, coalesce(developers#41, unknown) AS developers#6540, coalesce(publishers#42, unknown) AS publishers#6541, price#21, coalesce(discount#56, 0) AS discount_percentage#6542, coalesce(recommendations#37, 0) AS recommendations#6543, coalesce(positive#49, 0) AS positive#6544, coalesce(negative#50, 0) AS negative#6545, peak_ccu#57 AS peak_playernum#6237, dlc_count#22]\n",
      "                                       +- Filter atleastnnonnulls(3, name#18, tags#58, peak_ccu#57)\n",
      "                                          +- FileScan csv [appid#17,name#18,release_date#19,price#21,dlc_count#22,recommendations#37,developers#41,publishers#42,genres#44,positive#49,negative#50,discount#56,peak_ccu#57,tags#58] Batched: false, DataFilters: [atleastnnonnulls(3, name#18, tags#58, peak_ccu#57)], Format: CSV, Location: InMemoryFileIndex(1 paths)[file:/c:/Users/ania/Documents/HAMK-VSC/bigdata/github/BigDataTechnolog..., PartitionFilters: [], PushedFilters: [], ReadSchema: struct<appid:string,name:string,release_date:string,price:string,dlc_count:string,recommendations...\n",
      "\n"
     ]
    }
   ],
   "source": [
    "# Show the execution plan to check optimizations\n",
    "df_final.explain(True)\n"
   ]
  },
  {
   "cell_type": "code",
   "execution_count": null,
   "metadata": {},
   "outputs": [
    {
     "name": "stdout",
     "output_type": "stream",
     "text": [
      "+-------+--------------------+------------+--------------------+--------------------+--------------------+--------------------+------+-------------------+---------------+--------------+---------+-----------+-------------------+-------------------+----------------+\n",
      "|  appid|                name|release_date|              genres|                tags|          developers|          publishers| price|discount_percentage|recommendations|peak_playernum|dlc_count|all_reviews|positive_percentage|negative_percentage|success_category|\n",
      "+-------+--------------------+------------+--------------------+--------------------+--------------------+--------------------+------+-------------------+---------------+--------------+---------+-----------+-------------------+-------------------+----------------+\n",
      "|1963980|                 ...|  04/05/2022|['Action', 'Adven...|{'Adventure': 67,...|      ['GDE ANIMES']|      ['GDE ANIMES']|  1.99|                  0|              0|             0|        0|        8.0|               50.0|               50.0|    Unsuccessful|\n",
      "|3037060|    100 Waiting Cats|  06/10/2024|['Action', 'Adven...|                  []|  ['100 Cozy Games']|  ['100 Cozy Games']|     0|                  0|              0|             0|        3|        0.0|                0.0|                0.0|    Unsuccessful|\n",
      "|3287980|100% Wedding Miss...|  23/12/2024|    ['Indie', 'RPG']|{'Comedy': 45, 'R...|         ['AvoCavo']|         ['AvoCavo']| 12.99|                  0|              0|             0|        0|        3.0|              100.0|                0.0|    Unsuccessful|\n",
      "|3129650|101 Cats Hidden i...|  15/08/2024| ['Casual', 'Indie']|{'Cats': 164, 'Hi...|        ['NaipSoft']|        ['NaipSoft']|  0.49|                 51|              0|             0|        0|        0.0|                0.0|                0.0|    Unsuccessful|\n",
      "| 657110|2 Planets Fire an...|  07/08/2017|['Casual', 'Strat...|                  []|                  []|['familyplay', 'M...|  8.99|                  0|              0|             0|        0|        0.0|                0.0|                0.0|    Unsuccessful|\n",
      "| 696540|    60 Second Strike|  04/10/2017| ['Action', 'Indie']|{'Action': 23, 'I...|   ['Amplecti Chao']|   ['Amplecti Chao']|  8.99|                  0|              0|             0|        0|       12.0|              41.67|              58.33|    Unsuccessful|\n",
      "| 539010|         7VR Wonders|  02/04/2017|       ['Education']|{'Education': 21,...|        ['VRMonkey']|        ['VRMonkey']|  1.99|                  0|              0|             0|        0|       12.0|              33.33|              66.67|    Unsuccessful|\n",
      "|2278300|  A Symmetric Escape|  16/02/2023|           ['Indie']|{'Puzzle': 114, '...|       ['SporkTank']|       ['SporkTank']|  3.99|                  0|              0|             0|        0|       24.0|              100.0|                0.0|    Unsuccessful|\n",
      "|2790100|   A Winter Haunting|  03/12/2024|['Adventure', 'Ca...|{'Exploration': 1...|              ['AB']|['Eccentric Styli...|  9.99|                  0|              0|             1|        0|       18.0|              100.0|                0.0|    Unsuccessful|\n",
      "|3343700|            Acquaint|  28/11/2024|   ['Casual', 'RPG']|                  []|    ['Zhang Huiqin']|    ['Zhang Huiqin']|129.99|                  0|              0|             0|        0|        0.0|                0.0|                0.0|    Unsuccessful|\n",
      "| 894360|       ActionpaintVR|  10/09/2018|['Casual', 'Indie...|{'Indie': 21, 'Ca...|             ['DNV']|             ['DNV']|  1.99|                  0|              0|             0|        0|        1.0|              100.0|                0.0|    Unsuccessful|\n",
      "|1379590|Adventures in Mor...|  14/08/2020|['Free To Play', ...|{'Strategy': 406,...|       ['Treadsoft']|       ['Treadsoft']|     0|                  0|              0|             0|        0|       11.0|              72.73|              27.27|    Unsuccessful|\n",
      "| 341150|Age of Fear 2: Th...|  27/03/2015|['Indie', 'RPG', ...|{'Tactical RPG': ...|   ['Leslaw Sliwko']|     ['Age of Fear']| 24.99|                  0|            269|             2|        1|      334.0|              79.04|              20.96|        Moderate|\n",
      "|2784910|              Amulet|  07/04/2024|['Action', 'Indie...|{'RPG': 170, 'Dar...|  ['Flipside Games']|  ['Flipside Games']|  0.99|                  0|              0|             0|        0|       15.0|              53.33|              46.67|    Unsuccessful|\n",
      "|2859920|        Angler Quest|  13/03/2024|             ['RPG']|{'RPG': 70, 'Fish...|    ['BDTH Studios']|    ['BDTH Studios']|  9.99|                  0|              0|             0|        0|        1.0|              100.0|                0.0|    Unsuccessful|\n",
      "|2658530|Animal Shelter 2 ...|  22/05/2024|                  []|                  []|                  []|                  []|     0|                  0|              0|             0|        0|        0.0|                0.0|                0.0|    Unsuccessful|\n",
      "| 234900|             Anodyne|  22/03/2013|['Action', 'Adven...|{'Atmospheric': 2...|['Melos Han-Tani'...|['Analgesic Produ...|  3.99|                 60|            915|             2|        1|     1516.0|              84.43|              15.57|        Moderate|\n",
      "|  65400|      Archon Classic|  02/11/2010|['Indie', 'Strate...|{'Strategy': 32, ...|     ['React Games']|     ['React Games']|  9.99|                  0|            147|             2|        0|      182.0|              81.32|              18.68|        Moderate|\n",
      "|2363080|Art-Therapy: Port...|  06/04/2023|          ['Casual']|{'Casual': 65, 'P...|   ['S1im Software']|   ['S1im Software']|  3.99|                  0|              0|             0|        4|        4.0|              100.0|                0.0|    Unsuccessful|\n",
      "|1152300|Atelier Ayesha: T...|  14/01/2020|             ['RPG']|{'RPG': 113, 'JRP...|['KOEI TECMO GAME...|['KOEI TECMO GAME...| 39.99|                  0|            427|            21|        0|      458.0|              93.01|               6.99|        Moderate|\n",
      "+-------+--------------------+------------+--------------------+--------------------+--------------------+--------------------+------+-------------------+---------------+--------------+---------+-----------+-------------------+-------------------+----------------+\n",
      "only showing top 20 rows\n",
      "\n"
     ]
    }
   ],
   "source": [
    "from pyspark.sql.functions import udf\n",
    "from pyspark.sql.types import StringType\n",
    "from pyspark.sql.functions import col\n",
    "\n",
    "# Define a UDF to classify games based on positive_percentage and recommendations\n",
    "def classify_success(positive_percentage, recommendations):\n",
    "    try:\n",
    "        recommendations_int = int(recommendations)  # Convert recommendations to an integer\n",
    "    except ValueError:\n",
    "        recommendations_int = 0  # Default to 0 if conversion fails\n",
    "\n",
    "    # Define conditions for classification\n",
    "    if positive_percentage > 80 and recommendations_int > 1000:\n",
    "        return \"Successful\"\n",
    "    elif positive_percentage > 50 and recommendations_int > 100:\n",
    "        return \"Moderate\"\n",
    "    else:\n",
    "        return \"Unsuccessful\"\n",
    "\n",
    "# Register the UDF\n",
    "classify_success_udf = udf(classify_success, StringType())\n",
    "\n",
    "# Apply the UDF to add a new column 'success_category' based on the classification\n",
    "games_with_success_classification = df_final.withColumn(\n",
    "    \"success_category\", \n",
    "    classify_success_udf(col(\"positive_percentage\"), col(\"recommendations\"))\n",
    ")\n",
    "\n",
    "# Show the resulting DataFrame with the new 'success_category' column\n",
    "games_with_success_classification.show()\n"
   ]
  },
  {
   "cell_type": "code",
   "execution_count": null,
   "metadata": {},
   "outputs": [],
   "source": [
    "games_with_success_classification.createOrReplaceTempView(\"games\")"
   ]
  },
  {
   "cell_type": "code",
   "execution_count": null,
   "metadata": {},
   "outputs": [
    {
     "name": "stdout",
     "output_type": "stream",
     "text": [
      "+-------+------------------------------------+------------+--------------------+--------------------+--------------------+--------------------+-----+-------------------+---------------+--------------+---------+-----------+-------------------+-------------------+----------------+\n",
      "|  appid|                                name|release_date|              genres|                tags|          developers|          publishers|price|discount_percentage|recommendations|peak_playernum|dlc_count|all_reviews|positive_percentage|negative_percentage|success_category|\n",
      "+-------+------------------------------------+------------+--------------------+--------------------+--------------------+--------------------+-----+-------------------+---------------+--------------+---------+-----------+-------------------+-------------------+----------------+\n",
      "|3066390|\"軍艦島探訪記　ある写真家の記録　...|  01/08/2024|      ['Simulation']|{'Simulation': 53...|         ['XYimage']|         ['XYimage']|19.99|                  0|              0|             0|        0|        4.0|               75.0|               25.0|    Unsuccessful|\n",
      "|1364510|                  'Member the Alamo?|  30/10/2020|          ['Action']|{'Action': 64, 'S...|['Blue Collar Gam...|['Blue Collar Gam...| 4.99|                  0|              0|             0|        0|       72.0|              80.56|              19.44|    Unsuccessful|\n",
      "|1566990|                                 -A-|  19/05/2021| ['Action', 'Indie']|{'Action': 66, 'S...|     ['Racing Bros']|         ['ANPA.US']| 0.99|                  0|              0|             0|        0|       26.0|              65.38|              34.62|    Unsuccessful|\n",
      "|1963980|                                 ...|  04/05/2022|['Action', 'Adven...|{'Adventure': 67,...|      ['GDE ANIMES']|      ['GDE ANIMES']| 1.99|                  0|              0|             0|        0|        8.0|               50.0|               50.0|    Unsuccessful|\n",
      "| 771710|                .T.E.S.T: Expecte...|  03/05/2018|['Action', 'Adven...|{'Puzzle': 54, 'I...|     ['Veslo Games']|     ['Veslo Games']| 5.99|                  0|              0|             0|        0|       91.0|              74.73|              25.27|    Unsuccessful|\n",
      "|3396850|                                  /R|  23/01/2025|['Adventure', 'In...|{'Psychological H...|['negative_develo...|['negative_develo...| 9.99|                  0|              0|             0|        0|        1.0|              100.0|                0.0|    Unsuccessful|\n",
      "|3037060|                    100 Waiting Cats|  06/10/2024|['Action', 'Adven...|                  []|  ['100 Cozy Games']|  ['100 Cozy Games']|    0|                  0|              0|             0|        3|        0.0|                0.0|                0.0|    Unsuccessful|\n",
      "|1740240|                     100 hidden cups|  15/09/2021|['Adventure', 'Ca...|{'Casual': 256, '...|['Anatoliy Logino...|['Anatoliy Logino...| 0.99|                  0|            359|             0|        0|      366.0|              40.16|              59.84|    Unsuccessful|\n",
      "|3287980|                100% Wedding Miss...|  23/12/2024|    ['Indie', 'RPG']|{'Comedy': 45, 'R...|         ['AvoCavo']|         ['AvoCavo']|12.99|                  0|              0|             0|        0|        3.0|              100.0|                0.0|    Unsuccessful|\n",
      "|2382200|                1001 Jigsaw World...|  22/10/2023|          ['Casual']|{'Casual': 70, 'B...|          ['8floor']|          ['8floor']| 4.99|                  0|              0|             0|        0|        3.0|              33.33|              66.67|    Unsuccessful|\n",
      "+-------+------------------------------------+------------+--------------------+--------------------+--------------------+--------------------+-----+-------------------+---------------+--------------+---------+-----------+-------------------+-------------------+----------------+\n",
      "only showing top 10 rows\n",
      "\n"
     ]
    }
   ],
   "source": [
    "spark.sql(\"SELECT * FROM games\").show(10)"
   ]
  },
  {
   "cell_type": "code",
   "execution_count": null,
   "metadata": {},
   "outputs": [
    {
     "name": "stdout",
     "output_type": "stream",
     "text": [
      "+-------+--------------------+------------+--------------------+--------------------+--------------------+--------------------+-----+-------------------+---------------+--------------+---------+-----------+-------------------+-------------------+----------------+\n",
      "|  appid|                name|release_date|              genres|                tags|          developers|          publishers|price|discount_percentage|recommendations|peak_playernum|dlc_count|all_reviews|positive_percentage|negative_percentage|success_category|\n",
      "+-------+--------------------+------------+--------------------+--------------------+--------------------+--------------------+-----+-------------------+---------------+--------------+---------+-----------+-------------------+-------------------+----------------+\n",
      "|1864790|          1BITDRAGON|  18/03/2022|['Audio Productio...|{'Audio Productio...|      ['1BITDRAGON']|      ['1BITDRAGON']|29.99|                  0|            205|             1|        0|      226.0|              96.02|               3.98|        Moderate|\n",
      "| 435100|               2Dark|  10/03/2017|['Adventure', 'In...|{'Indie': 177, 'H...|      ['Gloomywood']|           ['Nacon']|24.99|                  0|            466|             0|        1|      765.0|              77.52|              22.48|        Moderate|\n",
      "|1131900|             3rd eye|  30/09/2019|       ['Adventure']|{'Adventure': 37,...| ['3rd eye project']|['Sony Music Ente...|14.99|                  0|            284|             0|        0|      312.0|               87.5|               12.5|        Moderate|\n",
      "|  47000|          4 Elements|  12/07/2010|['Adventure', 'Ca...|{'Casual': 76, 'P...|['Playrix Enterta...|['Playrix Enterta...|    0|                  0|            564|             3|        0|      743.0|              87.75|              12.25|        Moderate|\n",
      "| 289890|   7,62 High Calibre|  30/04/2014|['RPG', 'Simulati...|{'Strategy': 76, ...|         ['Apeiron']|['Fulqrum Publish...| 4.99|                  0|            326|             2|        0|      451.0|              76.27|              23.73|        Moderate|\n",
      "|1424660|   9-nine-:Episode 4|  19/03/2021|          ['Casual']|{'Casual': 74, 'V...|         ['PALETTE']|   ['Sekai Project']| 9.99|                 50|           1084|            11|        0|     1109.0|               98.2|                1.8|      Successful|\n",
      "| 264280|   99 Levels To Hell|  19/02/2014|['Action', 'Adven...|{'Indie': 188, 'A...|['Zaxis Games', '...|     ['Zaxis Games']| 4.99|                  0|            334|             0|        1|      602.0|              60.96|              39.04|        Moderate|\n",
      "|1547670|           A Day Out|  27/06/2024|['Action', 'Adven...|{'Online Co-Op': ...|['KevTheDev', 'ga...|       ['KevTheDev']| 4.99|                 50|            477|            45|        0|      588.0|              79.08|              20.92|        Moderate|\n",
      "| 577080|  A Dump in the Dark|  24/01/2018|['Action', 'Adven...|{'Sexual Content'...|       ['Oubliette']|       ['Oubliette']| 2.99|                  0|            339|             1|        0|      406.0|              68.97|              31.03|        Moderate|\n",
      "| 397270|A Kiss For The Pe...|  25/09/2015|       ['Adventure']|{'Female Protagon...|\"[\"\"St. Michael's...|      ['MangaGamer']| 7.99|                  0|           1163|             1|        0|     1638.0|               93.1|                6.9|      Successful|\n",
      "|1546100|     A Musical Story|  04/03/2022|['Adventure', 'Ca...|{'Rhythm': 390, '...|['Glee-Cheese Stu...|        ['Digerati']|14.99|                  0|            188|             0|        1|      247.0|              84.62|              15.38|        Moderate|\n",
      "| 315340|A.R.E.S. Extincti...|  03/10/2014| ['Action', 'Indie']|{'Action': 39, 'I...|   ['Extend Studio']|     ['ORiGO GAMES']| 9.99|                  0|            155|             0|        0|      198.0|              72.73|              27.27|        Moderate|\n",
      "|  92300|A.R.E.S.: Extinct...|  19/01/2011| ['Action', 'Indie']|{'Action': 91, 'P...|   ['Extend Studio']|['Extend Studio',...| 4.99|                  0|            574|             0|        2|      908.0|              69.38|              30.62|        Moderate|\n",
      "|1608560|  AI Drone Simulator|  26/05/2021|      ['Simulation']|{'Simulation': 78...|['Diophante Studio']|['Diophante Studio']|14.99|                  0|            193|             0|        1|      209.0|              85.65|              14.35|        Moderate|\n",
      "| 948740|AI: The Somnium F...|  17/09/2019|       ['Adventure']|{'Visual Novel': ...|['Spike Chunsoft ...|['Spike Chunsoft ...| 7.99|                 80|           7682|            52|        0|     8114.0|              91.62|               8.38|      Successful|\n",
      "|1159640|ANIME - World War II|  13/01/2020| ['Action', 'Indie']|{'Sexual Content'...|['Konnichiwa Games']|['Konnichiwa Games']| 0.99|                 50|           1078|             0|        2|      767.0|              83.83|              16.17|      Successful|\n",
      "| 750200|AWAY: The Surviva...|  28/09/2021|['Action', 'Adven...|{'Indie': 373, 'E...|  ['Breaking Walls']|['Breaking Walls'...|19.99|                  0|            274|             0|        1|      337.0|               54.9|               45.1|        Moderate|\n",
      "| 499890|               Aaero|  11/04/2017| ['Action', 'Indie']|{'Indie': 46, 'Ac...|     ['Mad Fellows']|     ['Mad Fellows']|14.99|                  0|            314|             1|        5|      909.0|              83.17|              16.83|        Moderate|\n",
      "| 473690|            Absolver|  29/08/2017|['Action', 'Adven...|{'Fighting': 287,...|         ['Sloclap']|['Devolver Digital']|29.99|                  0|          11229|            25|        2|    14477.0|              72.19|              27.81|        Moderate|\n",
      "| 850050|Achievement Idler...|  13/05/2018|          ['Casual']|{'Casual': 22, 'I...|      ['IHM Studio']|      ['IHM Studio']| 0.99|                  0|            349|             0|        0|      359.0|              85.52|              14.48|        Moderate|\n",
      "+-------+--------------------+------------+--------------------+--------------------+--------------------+--------------------+-----+-------------------+---------------+--------------+---------+-----------+-------------------+-------------------+----------------+\n",
      "only showing top 20 rows\n",
      "\n"
     ]
    }
   ],
   "source": [
    "spark.sql(\"SELECT * FROM games WHERE success_category NOT LIKE 'Unsuccessful'\").show()"
   ]
  },
  {
   "cell_type": "code",
   "execution_count": null,
   "metadata": {},
   "outputs": [
    {
     "name": "stdout",
     "output_type": "stream",
     "text": [
      "+-------+--------------------+------------+--------------------+--------------------+--------------------+--------------------+-----+-------------------+---------------+--------------+---------+-----------+-------------------+-------------------+----------------+\n",
      "|  appid|                name|release_date|              genres|                tags|          developers|          publishers|price|discount_percentage|recommendations|peak_playernum|dlc_count|all_reviews|positive_percentage|negative_percentage|success_category|\n",
      "+-------+--------------------+------------+--------------------+--------------------+--------------------+--------------------+-----+-------------------+---------------+--------------+---------+-----------+-------------------+-------------------+----------------+\n",
      "|1864790|          1BITDRAGON|  18/03/2022|['Audio Productio...|{'Audio Productio...|      ['1BITDRAGON']|      ['1BITDRAGON']|29.99|                  0|            205|             1|        0|      226.0|              96.02|               3.98|        Moderate|\n",
      "| 435100|               2Dark|  10/03/2017|['Adventure', 'In...|{'Indie': 177, 'H...|      ['Gloomywood']|           ['Nacon']|24.99|                  0|            466|             0|        1|      765.0|              77.52|              22.48|        Moderate|\n",
      "|1131900|             3rd eye|  30/09/2019|       ['Adventure']|{'Adventure': 37,...| ['3rd eye project']|['Sony Music Ente...|14.99|                  0|            284|             0|        0|      312.0|               87.5|               12.5|        Moderate|\n",
      "|  47000|          4 Elements|  12/07/2010|['Adventure', 'Ca...|{'Casual': 76, 'P...|['Playrix Enterta...|['Playrix Enterta...|    0|                  0|            564|             3|        0|      743.0|              87.75|              12.25|        Moderate|\n",
      "| 289890|   7,62 High Calibre|  30/04/2014|['RPG', 'Simulati...|{'Strategy': 76, ...|         ['Apeiron']|['Fulqrum Publish...| 4.99|                  0|            326|             2|        0|      451.0|              76.27|              23.73|        Moderate|\n",
      "|1424660|   9-nine-:Episode 4|  19/03/2021|          ['Casual']|{'Casual': 74, 'V...|         ['PALETTE']|   ['Sekai Project']| 9.99|                 50|           1084|            11|        0|     1109.0|               98.2|                1.8|      Successful|\n",
      "| 264280|   99 Levels To Hell|  19/02/2014|['Action', 'Adven...|{'Indie': 188, 'A...|['Zaxis Games', '...|     ['Zaxis Games']| 4.99|                  0|            334|             0|        1|      602.0|              60.96|              39.04|        Moderate|\n",
      "|1547670|           A Day Out|  27/06/2024|['Action', 'Adven...|{'Online Co-Op': ...|['KevTheDev', 'ga...|       ['KevTheDev']| 4.99|                 50|            477|            45|        0|      588.0|              79.08|              20.92|        Moderate|\n",
      "| 577080|  A Dump in the Dark|  24/01/2018|['Action', 'Adven...|{'Sexual Content'...|       ['Oubliette']|       ['Oubliette']| 2.99|                  0|            339|             1|        0|      406.0|              68.97|              31.03|        Moderate|\n",
      "| 397270|A Kiss For The Pe...|  25/09/2015|       ['Adventure']|{'Female Protagon...|\"[\"\"St. Michael's...|      ['MangaGamer']| 7.99|                  0|           1163|             1|        0|     1638.0|               93.1|                6.9|      Successful|\n",
      "|1546100|     A Musical Story|  04/03/2022|['Adventure', 'Ca...|{'Rhythm': 390, '...|['Glee-Cheese Stu...|        ['Digerati']|14.99|                  0|            188|             0|        1|      247.0|              84.62|              15.38|        Moderate|\n",
      "| 315340|A.R.E.S. Extincti...|  03/10/2014| ['Action', 'Indie']|{'Action': 39, 'I...|   ['Extend Studio']|     ['ORiGO GAMES']| 9.99|                  0|            155|             0|        0|      198.0|              72.73|              27.27|        Moderate|\n",
      "|  92300|A.R.E.S.: Extinct...|  19/01/2011| ['Action', 'Indie']|{'Action': 91, 'P...|   ['Extend Studio']|['Extend Studio',...| 4.99|                  0|            574|             0|        2|      908.0|              69.38|              30.62|        Moderate|\n",
      "|1608560|  AI Drone Simulator|  26/05/2021|      ['Simulation']|{'Simulation': 78...|['Diophante Studio']|['Diophante Studio']|14.99|                  0|            193|             0|        1|      209.0|              85.65|              14.35|        Moderate|\n",
      "| 948740|AI: The Somnium F...|  17/09/2019|       ['Adventure']|{'Visual Novel': ...|['Spike Chunsoft ...|['Spike Chunsoft ...| 7.99|                 80|           7682|            52|        0|     8114.0|              91.62|               8.38|      Successful|\n",
      "|1159640|ANIME - World War II|  13/01/2020| ['Action', 'Indie']|{'Sexual Content'...|['Konnichiwa Games']|['Konnichiwa Games']| 0.99|                 50|           1078|             0|        2|      767.0|              83.83|              16.17|      Successful|\n",
      "| 750200|AWAY: The Surviva...|  28/09/2021|['Action', 'Adven...|{'Indie': 373, 'E...|  ['Breaking Walls']|['Breaking Walls'...|19.99|                  0|            274|             0|        1|      337.0|               54.9|               45.1|        Moderate|\n",
      "| 499890|               Aaero|  11/04/2017| ['Action', 'Indie']|{'Indie': 46, 'Ac...|     ['Mad Fellows']|     ['Mad Fellows']|14.99|                  0|            314|             1|        5|      909.0|              83.17|              16.83|        Moderate|\n",
      "| 473690|            Absolver|  29/08/2017|['Action', 'Adven...|{'Fighting': 287,...|         ['Sloclap']|['Devolver Digital']|29.99|                  0|          11229|            25|        2|    14477.0|              72.19|              27.81|        Moderate|\n",
      "| 850050|Achievement Idler...|  13/05/2018|          ['Casual']|{'Casual': 22, 'I...|      ['IHM Studio']|      ['IHM Studio']| 0.99|                  0|            349|             0|        0|      359.0|              85.52|              14.48|        Moderate|\n",
      "+-------+--------------------+------------+--------------------+--------------------+--------------------+--------------------+-----+-------------------+---------------+--------------+---------+-----------+-------------------+-------------------+----------------+\n",
      "only showing top 20 rows\n",
      "\n"
     ]
    }
   ],
   "source": [
    "from pyspark.sql import functions as F\n",
    "from pyspark.sql.window import Window\n",
    "\n",
    "#Filter out rows with 'Unsuccessful' success_category\n",
    "filtered_df = games_with_success_classification.filter(F.col(\"success_category\") != \"Unsuccessful\")"
   ]
  },
  {
   "cell_type": "markdown",
   "metadata": {},
   "source": [
    "## Comparing the overall success of the games in 2025"
   ]
  },
  {
   "cell_type": "code",
   "execution_count": null,
   "metadata": {},
   "outputs": [],
   "source": [
    "#Categorize prices\n",
    "categorized_df = filtered_df.withColumn(\n",
    "    \"price_category\",\n",
    "    F.when(F.col(\"price\") == 0, \"Free\")\n",
    "     .when(F.col(\"price\") < 10, \"Budget\")\n",
    "     .when(F.col(\"price\") < 30, \"Mid-range\")\n",
    "     .otherwise(\"Premium\")\n",
    ")"
   ]
  },
  {
   "cell_type": "code",
   "execution_count": null,
   "metadata": {},
   "outputs": [],
   "source": [
    "success_order = F.when(F.col(\"success_category\") == \"Successful\", 3) \\\n",
    "                 .when(F.col(\"success_category\") == \"Moderate\", 2) \\\n",
    "                 .when(F.col(\"success_category\") == \"Unsuccessful\", 1) \\\n",
    "                 .otherwise(0)\n"
   ]
  },
  {
   "cell_type": "code",
   "execution_count": null,
   "metadata": {},
   "outputs": [
    {
     "name": "stdout",
     "output_type": "stream",
     "text": [
      "+----------------------------------------------+-----+--------------+----------------+------------+----------------+\n",
      "|name                                          |price|price_category|success_category|success_rank|rank_in_category|\n",
      "+----------------------------------------------+-----+--------------+----------------+------------+----------------+\n",
      "|100% Orange Juice                             |6.99 |Budget        |Successful      |3           |1               |\n",
      "|12 Labours of Hercules                        |2.99 |Budget        |Successful      |3           |1               |\n",
      "|60 Seconds! Reatomized                        |9.99 |Budget        |Successful      |3           |1               |\n",
      "|64                                            |2.99 |Budget        |Successful      |3           |1               |\n",
      "|9-nine-:Episode 4                             |9.99 |Budget        |Successful      |3           |1               |\n",
      "|A Kiss For The Petals - Remembering How We Met|7.99 |Budget        |Successful      |3           |1               |\n",
      "|A Normal Lost Phone                           |2.99 |Budget        |Successful      |3           |1               |\n",
      "|AHEGAL                                        |1.99 |Budget        |Successful      |3           |1               |\n",
      "|AI: The Somnium Files                         |7.99 |Budget        |Successful      |3           |1               |\n",
      "|Agent A: A puzzle in disguise                 |1.99 |Budget        |Successful      |3           |1               |\n",
      "|Ages of Conflict: World War Simulator         |6.99 |Budget        |Successful      |3           |1               |\n",
      "|Airscape - The Fall of Gravity                |4.99 |Budget        |Successful      |3           |1               |\n",
      "|Ale & Tale Tavern                             |8.99 |Budget        |Successful      |3           |1               |\n",
      "|Alice: Madness Returns                        |9.99 |Budget        |Successful      |3           |1               |\n",
      "|Aliya: Timelink                               |2.99 |Budget        |Successful      |3           |1               |\n",
      "|Amnesia: The Dark Descent                     |2.99 |Budget        |Successful      |3           |1               |\n",
      "|Anemoiapolis: Chapter 1                       |8.99 |Budget        |Successful      |3           |1               |\n",
      "|Angels of Death                               |9.99 |Budget        |Successful      |3           |1               |\n",
      "|Angels with Scaly Wings™ / 鱗羽の天使         |9.99 |Budget        |Successful      |3           |1               |\n",
      "|Arctic Eggs                                   |9.99 |Budget        |Successful      |3           |1               |\n",
      "+----------------------------------------------+-----+--------------+----------------+------------+----------------+\n",
      "only showing top 20 rows\n",
      "\n"
     ]
    }
   ],
   "source": [
    "# numeric rank column\n",
    "categorized_df = categorized_df.withColumn(\"success_rank\", success_order)\n",
    "\n",
    "# Window ordered by success_rank descending\n",
    "price_window = Window.partitionBy(\"price_category\").orderBy(F.desc(\"success_rank\"))\n",
    "\n",
    "# Apply ranking\n",
    "price_analysis = categorized_df.withColumn(\"rank_in_category\", F.rank().over(price_window))\n",
    "price_analysis.select(\"appid\",\"name\", \"price\", \"price_category\", \"success_category\", \"success_rank\", \"rank_in_category\").show(truncate=False)\n"
   ]
  },
  {
   "cell_type": "code",
   "execution_count": null,
   "metadata": {},
   "outputs": [],
   "source": [
    "success_categories = [\"Successful\", \"Moderate\", \"Unsuccessful\"]\n",
    "\n",
    "for category in success_categories:\n",
    "    count = games_with_success_classification.filter(\n",
    "        col(\"success_category\") == category\n",
    "    ).count()\n",
    "\n",
    "    print(f\"{category}: {count} games\")"
   ]
  },
  {
   "cell_type": "code",
   "execution_count": null,
   "metadata": {},
   "outputs": [],
   "source": [
    "best_games = price_analysis.filter(F.col(\"rank_in_category\") != \"3\")\n",
    "best_games.select(\"appid\", \"name\", \"price\", \"price_category\", \"success_category\", \"success_rank\", \"rank_in_category\").show(truncate=False)"
   ]
  },
  {
   "cell_type": "code",
   "execution_count": null,
   "metadata": {},
   "outputs": [],
   "source": [
    "best_games.count()"
   ]
  },
  {
   "cell_type": "code",
   "execution_count": null,
   "metadata": {},
   "outputs": [],
   "source": [
    "from pyspark.sql.functions import explode, split, regexp_replace, col\n",
    "\n",
    "# Step 1: Filter Successful and Moderate Games\n",
    "best_games = price_analysis.filter(F.col(\"rank_in_category\") != \"3\")\n",
    "\n",
    "# Step 2: Exploding toilets\n",
    "df_exploded_tags = best_games.withColumn(\n",
    "    \"tag\", \n",
    "    explode(split(regexp_replace(\"tags\", \"[\\\\[\\\\]' ]\", \"\"), \",\"))\n",
    ")\n",
    "\n",
    "# Step 3: Clean the tag by removing numbers after the colon\n",
    "df_exploded_tags_clean = df_exploded_tags.withColumn(\n",
    "    \"clean_tag\", \n",
    "    split(col(\"tag\"), \":\").getItem(0)  # Keeps only the first part (before the colon)\n",
    ")\n",
    "\n",
    "# Step 4: Count tags for successful games\n",
    "df_successful = df_exploded_tags_clean.filter(col(\"success_category\") == \"Successful\") \\\n",
    "    .groupBy(\"clean_tag\").count().withColumnRenamed(\"count\", \"successful_count\")\n",
    "\n",
    "# Step 5: Count tags for moderate games\n",
    "df_moderate = df_exploded_tags_clean.filter(col(\"success_category\") == \"Moderate\") \\\n",
    "    .groupBy(\"clean_tag\").count().withColumnRenamed(\"count\", \"moderate_count\")\n",
    "\n",
    "# Step 6: Perform a join on clean_tag to compare counts between successful and moderate games\n",
    "df_joined = df_successful.join(\n",
    "    df_moderate,\n",
    "    on=\"clean_tag\",  # Joining on the tag name\n",
    "    how=\"outer\"  # Outer join to include tags from both categories\n",
    ")\n",
    "\n",
    "# Step 7: Order the results based on the successful_count (highest successful_count first)\n",
    "df_joined_ordered = df_joined.orderBy(\"successful_count\", ascending=False)  # Order by successful_count, highest first\n",
    "\n",
    "# Step 8: Show the results ordered by the successful count of tags\n",
    "df_joined_ordered.show(10, truncate=False)"
   ]
  }
 ],
 "metadata": {
  "kernelspec": {
   "display_name": "BigData",
   "language": "python",
   "name": "python3"
  },
  "language_info": {
   "codemirror_mode": {
    "name": "ipython",
    "version": 3
   },
   "file_extension": ".py",
   "mimetype": "text/x-python",
   "name": "python",
   "nbconvert_exporter": "python",
   "pygments_lexer": "ipython3",
   "version": "3.11.11"
  }
 },
 "nbformat": 4,
 "nbformat_minor": 2
}
